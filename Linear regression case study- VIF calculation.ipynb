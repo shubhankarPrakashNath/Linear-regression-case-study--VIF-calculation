{
 "cells": [
  {
   "cell_type": "markdown",
   "id": "c5e85f91",
   "metadata": {},
   "source": [
    "''' In this project I am doing case study on insurance dataset using linear regression.\n",
    "I have calculated VIF (Variance inflation factor) value,rmse, mean absolute percentage(map) error, box plot analysis, outlier removal, multicolinearity analysis, null data \n",
    "tranformation using mean, median and mode values.'''"
   ]
  },
  {
   "cell_type": "code",
   "execution_count": 128,
   "id": "8e60dbb3",
   "metadata": {},
   "outputs": [
    {
     "name": "stdout",
     "output_type": "stream",
     "text": [
      "om shiv gorakh\n",
      "om shiv gorakh\n",
      "om shiv gorakh\n"
     ]
    }
   ],
   "source": [
    "for i in range(0,3): print('om shiv gorakh')"
   ]
  },
  {
   "cell_type": "code",
   "execution_count": 129,
   "id": "b9e79e52",
   "metadata": {},
   "outputs": [],
   "source": [
    "import pandas as pd\n",
    "import numpy as np\n",
    "import matplotlib.pyplot as plt"
   ]
  },
  {
   "cell_type": "code",
   "execution_count": 130,
   "id": "d923189f",
   "metadata": {},
   "outputs": [],
   "source": [
    "insurance = pd.read_csv('new_insurance_data.csv')"
   ]
  },
  {
   "cell_type": "code",
   "execution_count": 131,
   "id": "a36396cd",
   "metadata": {},
   "outputs": [
    {
     "data": {
      "text/html": [
       "<div>\n",
       "<style scoped>\n",
       "    .dataframe tbody tr th:only-of-type {\n",
       "        vertical-align: middle;\n",
       "    }\n",
       "\n",
       "    .dataframe tbody tr th {\n",
       "        vertical-align: top;\n",
       "    }\n",
       "\n",
       "    .dataframe thead th {\n",
       "        text-align: right;\n",
       "    }\n",
       "</style>\n",
       "<table border=\"1\" class=\"dataframe\">\n",
       "  <thead>\n",
       "    <tr style=\"text-align: right;\">\n",
       "      <th></th>\n",
       "      <th>age</th>\n",
       "      <th>sex</th>\n",
       "      <th>bmi</th>\n",
       "      <th>children</th>\n",
       "      <th>smoker</th>\n",
       "      <th>Claim_Amount</th>\n",
       "      <th>past_consultations</th>\n",
       "      <th>num_of_steps</th>\n",
       "      <th>Hospital_expenditure</th>\n",
       "      <th>NUmber_of_past_hospitalizations</th>\n",
       "      <th>Anual_Salary</th>\n",
       "      <th>region</th>\n",
       "      <th>charges</th>\n",
       "    </tr>\n",
       "  </thead>\n",
       "  <tbody>\n",
       "    <tr>\n",
       "      <th>0</th>\n",
       "      <td>18.0</td>\n",
       "      <td>male</td>\n",
       "      <td>23.21</td>\n",
       "      <td>0.0</td>\n",
       "      <td>no</td>\n",
       "      <td>29087.54313</td>\n",
       "      <td>17.0</td>\n",
       "      <td>715428.0</td>\n",
       "      <td>4720920.992</td>\n",
       "      <td>0.0</td>\n",
       "      <td>55784970.05</td>\n",
       "      <td>southeast</td>\n",
       "      <td>1121.8739</td>\n",
       "    </tr>\n",
       "    <tr>\n",
       "      <th>1</th>\n",
       "      <td>18.0</td>\n",
       "      <td>male</td>\n",
       "      <td>30.14</td>\n",
       "      <td>0.0</td>\n",
       "      <td>no</td>\n",
       "      <td>39053.67437</td>\n",
       "      <td>7.0</td>\n",
       "      <td>699157.0</td>\n",
       "      <td>4329831.676</td>\n",
       "      <td>0.0</td>\n",
       "      <td>13700885.19</td>\n",
       "      <td>southeast</td>\n",
       "      <td>1131.5066</td>\n",
       "    </tr>\n",
       "    <tr>\n",
       "      <th>2</th>\n",
       "      <td>18.0</td>\n",
       "      <td>male</td>\n",
       "      <td>33.33</td>\n",
       "      <td>0.0</td>\n",
       "      <td>no</td>\n",
       "      <td>39023.62759</td>\n",
       "      <td>19.0</td>\n",
       "      <td>702341.0</td>\n",
       "      <td>6884860.774</td>\n",
       "      <td>0.0</td>\n",
       "      <td>73523107.27</td>\n",
       "      <td>southeast</td>\n",
       "      <td>1135.9407</td>\n",
       "    </tr>\n",
       "    <tr>\n",
       "      <th>3</th>\n",
       "      <td>18.0</td>\n",
       "      <td>male</td>\n",
       "      <td>33.66</td>\n",
       "      <td>0.0</td>\n",
       "      <td>no</td>\n",
       "      <td>28185.39332</td>\n",
       "      <td>11.0</td>\n",
       "      <td>700250.0</td>\n",
       "      <td>4274773.550</td>\n",
       "      <td>0.0</td>\n",
       "      <td>75819679.60</td>\n",
       "      <td>southeast</td>\n",
       "      <td>1136.3994</td>\n",
       "    </tr>\n",
       "    <tr>\n",
       "      <th>4</th>\n",
       "      <td>18.0</td>\n",
       "      <td>male</td>\n",
       "      <td>34.10</td>\n",
       "      <td>0.0</td>\n",
       "      <td>no</td>\n",
       "      <td>14697.85941</td>\n",
       "      <td>16.0</td>\n",
       "      <td>711584.0</td>\n",
       "      <td>3787293.921</td>\n",
       "      <td>0.0</td>\n",
       "      <td>23012320.01</td>\n",
       "      <td>southeast</td>\n",
       "      <td>1137.0110</td>\n",
       "    </tr>\n",
       "  </tbody>\n",
       "</table>\n",
       "</div>"
      ],
      "text/plain": [
       "    age   sex    bmi  children smoker  Claim_Amount  past_consultations  \\\n",
       "0  18.0  male  23.21       0.0     no   29087.54313                17.0   \n",
       "1  18.0  male  30.14       0.0     no   39053.67437                 7.0   \n",
       "2  18.0  male  33.33       0.0     no   39023.62759                19.0   \n",
       "3  18.0  male  33.66       0.0     no   28185.39332                11.0   \n",
       "4  18.0  male  34.10       0.0     no   14697.85941                16.0   \n",
       "\n",
       "   num_of_steps  Hospital_expenditure  NUmber_of_past_hospitalizations  \\\n",
       "0      715428.0           4720920.992                              0.0   \n",
       "1      699157.0           4329831.676                              0.0   \n",
       "2      702341.0           6884860.774                              0.0   \n",
       "3      700250.0           4274773.550                              0.0   \n",
       "4      711584.0           3787293.921                              0.0   \n",
       "\n",
       "   Anual_Salary     region    charges  \n",
       "0   55784970.05  southeast  1121.8739  \n",
       "1   13700885.19  southeast  1131.5066  \n",
       "2   73523107.27  southeast  1135.9407  \n",
       "3   75819679.60  southeast  1136.3994  \n",
       "4   23012320.01  southeast  1137.0110  "
      ]
     },
     "execution_count": 131,
     "metadata": {},
     "output_type": "execute_result"
    }
   ],
   "source": [
    "insurance.head()"
   ]
  },
  {
   "cell_type": "code",
   "execution_count": 132,
   "id": "9236af39",
   "metadata": {},
   "outputs": [
    {
     "name": "stdout",
     "output_type": "stream",
     "text": [
      "<class 'pandas.core.frame.DataFrame'>\n",
      "RangeIndex: 1338 entries, 0 to 1337\n",
      "Data columns (total 13 columns):\n",
      " #   Column                           Non-Null Count  Dtype  \n",
      "---  ------                           --------------  -----  \n",
      " 0   age                              1329 non-null   float64\n",
      " 1   sex                              1338 non-null   object \n",
      " 2   bmi                              1335 non-null   float64\n",
      " 3   children                         1333 non-null   float64\n",
      " 4   smoker                           1338 non-null   object \n",
      " 5   Claim_Amount                     1324 non-null   float64\n",
      " 6   past_consultations               1332 non-null   float64\n",
      " 7   num_of_steps                     1335 non-null   float64\n",
      " 8   Hospital_expenditure             1334 non-null   float64\n",
      " 9   NUmber_of_past_hospitalizations  1336 non-null   float64\n",
      " 10  Anual_Salary                     1332 non-null   float64\n",
      " 11  region                           1338 non-null   object \n",
      " 12  charges                          1338 non-null   float64\n",
      "dtypes: float64(10), object(3)\n",
      "memory usage: 136.0+ KB\n"
     ]
    }
   ],
   "source": [
    "insurance.info()"
   ]
  },
  {
   "cell_type": "code",
   "execution_count": 133,
   "id": "dedda215",
   "metadata": {},
   "outputs": [],
   "source": [
    "# Null values"
   ]
  },
  {
   "cell_type": "code",
   "execution_count": 134,
   "id": "ecb65dc3",
   "metadata": {},
   "outputs": [
    {
     "data": {
      "text/plain": [
       "age                                 9\n",
       "sex                                 0\n",
       "bmi                                 3\n",
       "children                            5\n",
       "smoker                              0\n",
       "Claim_Amount                       14\n",
       "past_consultations                  6\n",
       "num_of_steps                        3\n",
       "Hospital_expenditure                4\n",
       "NUmber_of_past_hospitalizations     2\n",
       "Anual_Salary                        6\n",
       "region                              0\n",
       "charges                             0\n",
       "dtype: int64"
      ]
     },
     "execution_count": 134,
     "metadata": {},
     "output_type": "execute_result"
    }
   ],
   "source": [
    "insurance.isnull().sum()"
   ]
  },
  {
   "cell_type": "code",
   "execution_count": 135,
   "id": "c8e57d92",
   "metadata": {},
   "outputs": [
    {
     "data": {
      "text/html": [
       "<div>\n",
       "<style scoped>\n",
       "    .dataframe tbody tr th:only-of-type {\n",
       "        vertical-align: middle;\n",
       "    }\n",
       "\n",
       "    .dataframe tbody tr th {\n",
       "        vertical-align: top;\n",
       "    }\n",
       "\n",
       "    .dataframe thead th {\n",
       "        text-align: right;\n",
       "    }\n",
       "</style>\n",
       "<table border=\"1\" class=\"dataframe\">\n",
       "  <thead>\n",
       "    <tr style=\"text-align: right;\">\n",
       "      <th></th>\n",
       "      <th>age</th>\n",
       "      <th>sex</th>\n",
       "      <th>bmi</th>\n",
       "      <th>children</th>\n",
       "      <th>smoker</th>\n",
       "      <th>Claim_Amount</th>\n",
       "      <th>past_consultations</th>\n",
       "      <th>num_of_steps</th>\n",
       "      <th>Hospital_expenditure</th>\n",
       "      <th>NUmber_of_past_hospitalizations</th>\n",
       "      <th>Anual_Salary</th>\n",
       "      <th>region</th>\n",
       "      <th>charges</th>\n",
       "    </tr>\n",
       "  </thead>\n",
       "  <tbody>\n",
       "    <tr>\n",
       "      <th>1333</th>\n",
       "      <td>33.0</td>\n",
       "      <td>female</td>\n",
       "      <td>35.530</td>\n",
       "      <td>0.0</td>\n",
       "      <td>yes</td>\n",
       "      <td>63142.25346</td>\n",
       "      <td>32.0</td>\n",
       "      <td>1091267.0</td>\n",
       "      <td>170380500.5</td>\n",
       "      <td>2.0</td>\n",
       "      <td>3.101107e+09</td>\n",
       "      <td>northwest</td>\n",
       "      <td>55135.40209</td>\n",
       "    </tr>\n",
       "    <tr>\n",
       "      <th>1334</th>\n",
       "      <td>31.0</td>\n",
       "      <td>female</td>\n",
       "      <td>38.095</td>\n",
       "      <td>1.0</td>\n",
       "      <td>yes</td>\n",
       "      <td>43419.95227</td>\n",
       "      <td>31.0</td>\n",
       "      <td>1107872.0</td>\n",
       "      <td>201515184.8</td>\n",
       "      <td>2.0</td>\n",
       "      <td>3.484216e+09</td>\n",
       "      <td>northeast</td>\n",
       "      <td>58571.07448</td>\n",
       "    </tr>\n",
       "    <tr>\n",
       "      <th>1335</th>\n",
       "      <td>52.0</td>\n",
       "      <td>male</td>\n",
       "      <td>34.485</td>\n",
       "      <td>3.0</td>\n",
       "      <td>yes</td>\n",
       "      <td>52458.92353</td>\n",
       "      <td>25.0</td>\n",
       "      <td>1092005.0</td>\n",
       "      <td>223644981.3</td>\n",
       "      <td>2.0</td>\n",
       "      <td>3.640807e+09</td>\n",
       "      <td>northwest</td>\n",
       "      <td>60021.39897</td>\n",
       "    </tr>\n",
       "    <tr>\n",
       "      <th>1336</th>\n",
       "      <td>45.0</td>\n",
       "      <td>male</td>\n",
       "      <td>30.360</td>\n",
       "      <td>0.0</td>\n",
       "      <td>yes</td>\n",
       "      <td>69927.51664</td>\n",
       "      <td>34.0</td>\n",
       "      <td>1106821.0</td>\n",
       "      <td>252892382.6</td>\n",
       "      <td>3.0</td>\n",
       "      <td>4.006359e+09</td>\n",
       "      <td>southeast</td>\n",
       "      <td>62592.87309</td>\n",
       "    </tr>\n",
       "    <tr>\n",
       "      <th>1337</th>\n",
       "      <td>54.0</td>\n",
       "      <td>female</td>\n",
       "      <td>47.410</td>\n",
       "      <td>0.0</td>\n",
       "      <td>yes</td>\n",
       "      <td>63982.80926</td>\n",
       "      <td>31.0</td>\n",
       "      <td>1100328.0</td>\n",
       "      <td>261631699.3</td>\n",
       "      <td>3.0</td>\n",
       "      <td>4.117197e+09</td>\n",
       "      <td>southeast</td>\n",
       "      <td>63770.42801</td>\n",
       "    </tr>\n",
       "  </tbody>\n",
       "</table>\n",
       "</div>"
      ],
      "text/plain": [
       "       age     sex     bmi  children smoker  Claim_Amount  past_consultations  \\\n",
       "1333  33.0  female  35.530       0.0    yes   63142.25346                32.0   \n",
       "1334  31.0  female  38.095       1.0    yes   43419.95227                31.0   \n",
       "1335  52.0    male  34.485       3.0    yes   52458.92353                25.0   \n",
       "1336  45.0    male  30.360       0.0    yes   69927.51664                34.0   \n",
       "1337  54.0  female  47.410       0.0    yes   63982.80926                31.0   \n",
       "\n",
       "      num_of_steps  Hospital_expenditure  NUmber_of_past_hospitalizations  \\\n",
       "1333     1091267.0           170380500.5                              2.0   \n",
       "1334     1107872.0           201515184.8                              2.0   \n",
       "1335     1092005.0           223644981.3                              2.0   \n",
       "1336     1106821.0           252892382.6                              3.0   \n",
       "1337     1100328.0           261631699.3                              3.0   \n",
       "\n",
       "      Anual_Salary     region      charges  \n",
       "1333  3.101107e+09  northwest  55135.40209  \n",
       "1334  3.484216e+09  northeast  58571.07448  \n",
       "1335  3.640807e+09  northwest  60021.39897  \n",
       "1336  4.006359e+09  southeast  62592.87309  \n",
       "1337  4.117197e+09  southeast  63770.42801  "
      ]
     },
     "execution_count": 135,
     "metadata": {},
     "output_type": "execute_result"
    }
   ],
   "source": [
    "insurance.tail()"
   ]
  },
  {
   "cell_type": "code",
   "execution_count": 136,
   "id": "efec2193",
   "metadata": {},
   "outputs": [
    {
     "data": {
      "text/plain": [
       "Index(['age', 'sex', 'bmi', 'children', 'smoker', 'Claim_Amount',\n",
       "       'past_consultations', 'num_of_steps', 'Hospital_expenditure',\n",
       "       'NUmber_of_past_hospitalizations', 'Anual_Salary', 'region', 'charges'],\n",
       "      dtype='object')"
      ]
     },
     "execution_count": 136,
     "metadata": {},
     "output_type": "execute_result"
    }
   ],
   "source": [
    "insurance.columns"
   ]
  },
  {
   "cell_type": "code",
   "execution_count": 137,
   "id": "3705434e",
   "metadata": {},
   "outputs": [],
   "source": [
    "col = list(insurance.columns)"
   ]
  },
  {
   "cell_type": "code",
   "execution_count": 138,
   "id": "9385c956",
   "metadata": {},
   "outputs": [
    {
     "data": {
      "text/plain": [
       "['age',\n",
       " 'sex',\n",
       " 'bmi',\n",
       " 'children',\n",
       " 'smoker',\n",
       " 'Claim_Amount',\n",
       " 'past_consultations',\n",
       " 'num_of_steps',\n",
       " 'Hospital_expenditure',\n",
       " 'NUmber_of_past_hospitalizations',\n",
       " 'Anual_Salary',\n",
       " 'region',\n",
       " 'charges']"
      ]
     },
     "execution_count": 138,
     "metadata": {},
     "output_type": "execute_result"
    }
   ],
   "source": [
    "col"
   ]
  },
  {
   "cell_type": "code",
   "execution_count": 139,
   "id": "8e069a12",
   "metadata": {},
   "outputs": [
    {
     "data": {
      "text/plain": [
       "39.31000752445448"
      ]
     },
     "execution_count": 139,
     "metadata": {},
     "output_type": "execute_result"
    }
   ],
   "source": [
    "insurance['age'].mean()"
   ]
  },
  {
   "cell_type": "code",
   "execution_count": 140,
   "id": "5c5d023f",
   "metadata": {},
   "outputs": [],
   "source": [
    "# handling missing data by substituing values (mean, median,mode)"
   ]
  },
  {
   "cell_type": "code",
   "execution_count": 141,
   "id": "2fd15af3",
   "metadata": {},
   "outputs": [],
   "source": [
    "for col_name in col:\n",
    "    if insurance[col_name].dtypes == 'object':\n",
    "        insurance[col_name] = insurance[col_name].fillna(insurance[col_name].mode()[0])\n",
    "    else:\n",
    "        insurance[col_name] = insurance[col_name].fillna(insurance[col_name].mean())"
   ]
  },
  {
   "cell_type": "code",
   "execution_count": 142,
   "id": "e4ef21f6",
   "metadata": {},
   "outputs": [
    {
     "data": {
      "text/plain": [
       "age                                0\n",
       "sex                                0\n",
       "bmi                                0\n",
       "children                           0\n",
       "smoker                             0\n",
       "Claim_Amount                       0\n",
       "past_consultations                 0\n",
       "num_of_steps                       0\n",
       "Hospital_expenditure               0\n",
       "NUmber_of_past_hospitalizations    0\n",
       "Anual_Salary                       0\n",
       "region                             0\n",
       "charges                            0\n",
       "dtype: int64"
      ]
     },
     "execution_count": 142,
     "metadata": {},
     "output_type": "execute_result"
    }
   ],
   "source": [
    "insurance.isnull().sum()"
   ]
  },
  {
   "cell_type": "code",
   "execution_count": 143,
   "id": "789d3525",
   "metadata": {},
   "outputs": [
    {
     "data": {
      "text/plain": [
       "(1338, 13)"
      ]
     },
     "execution_count": 143,
     "metadata": {},
     "output_type": "execute_result"
    }
   ],
   "source": [
    "insurance.shape"
   ]
  },
  {
   "cell_type": "code",
   "execution_count": 144,
   "id": "0c907db7",
   "metadata": {},
   "outputs": [],
   "source": [
    "# visualisation using matplotlib"
   ]
  },
  {
   "cell_type": "code",
   "execution_count": 145,
   "id": "b8e958df",
   "metadata": {},
   "outputs": [
    {
     "data": {
      "image/png": "[encoded data removed]",
      "text/plain": [
       "<Figure size 500x400 with 1 Axes>"
      ]
     },
     "metadata": {},
     "output_type": "display_data"
    },
    {
     "data": {
      "image/png": "[encoded data removed]",
      "text/plain": [
       "<Figure size 500x400 with 1 Axes>"
      ]
     },
     "metadata": {},
     "output_type": "display_data"
    },
    {
     "data": {
      "image/png": "[encoded data removed]",
      "text/plain": [
       "<Figure size 500x400 with 1 Axes>"
      ]
     },
     "metadata": {},
     "output_type": "display_data"
    },
    {
     "data": {
      "image/png": "[encoded data removed]",
      "text/plain": [
       "<Figure size 500x400 with 1 Axes>"
      ]
     },
     "metadata": {},
     "output_type": "display_data"
    },
    {
     "data": {
      "image/png": "[encoded data removed]",
      "text/plain": [
       "<Figure size 500x400 with 1 Axes>"
      ]
     },
     "metadata": {},
     "output_type": "display_data"
    },
    {
     "data": {
      "image/png": "[encoded data removed]",
      "text/plain": [
       "<Figure size 500x400 with 1 Axes>"
      ]
     },
     "metadata": {},
     "output_type": "display_data"
    },
    {
     "data": {
      "image/png": "[encoded data removed]",
      "text/plain": [
       "<Figure size 500x400 with 1 Axes>"
      ]
     },
     "metadata": {},
     "output_type": "display_data"
    },
    {
     "data": {
      "image/png": "[encoded data removed]",
      "text/plain": [
       "<Figure size 500x400 with 1 Axes>"
      ]
     },
     "metadata": {},
     "output_type": "display_data"
    },
    {
     "data": {
      "image/png": "[encoded data removed]",
      "text/plain": [
       "<Figure size 500x400 with 1 Axes>"
      ]
     },
     "metadata": {},
     "output_type": "display_data"
    },
    {
     "data": {
      "image/png": "[encoded data removed]",
      "text/plain": [
       "<Figure size 500x400 with 1 Axes>"
      ]
     },
     "metadata": {},
     "output_type": "display_data"
    }
   ],
   "source": [
    "for col_name in col:\n",
    "    if(insurance[col_name].dtypes=='int64' or insurance[col_name].dtypes=='float64'):\n",
    "        plt.figure(figsize=(5,4))\n",
    "        plt.hist(insurance[col_name])\n",
    "        plt.xlabel(col_name)\n",
    "        plt.ylabel('count')\n",
    "        plt.show()"
   ]
  },
  {
   "cell_type": "code",
   "execution_count": 146,
   "id": "e2e746ea",
   "metadata": {},
   "outputs": [
    {
     "data": {
      "image/png": "[encoded data removed]",
      "text/plain": [
       "<Figure size 500x400 with 1 Axes>"
      ]
     },
     "metadata": {},
     "output_type": "display_data"
    },
    {
     "data": {
      "image/png": "[encoded data removed]",
      "text/plain": [
       "<Figure size 500x400 with 1 Axes>"
      ]
     },
     "metadata": {},
     "output_type": "display_data"
    },
    {
     "data": {
      "image/png": "[encoded data removed]",
      "text/plain": [
       "<Figure size 500x400 with 1 Axes>"
      ]
     },
     "metadata": {},
     "output_type": "display_data"
    },
    {
     "data": {
      "image/png": "[encoded data removed]",
      "text/plain": [
       "<Figure size 500x400 with 1 Axes>"
      ]
     },
     "metadata": {},
     "output_type": "display_data"
    },
    {
     "data": {
      "image/png": "[encoded data removed]",
      "text/plain": [
       "<Figure size 500x400 with 1 Axes>"
      ]
     },
     "metadata": {},
     "output_type": "display_data"
    },
    {
     "data": {
      "image/png": "[encoded data removed]",
      "text/plain": [
       "<Figure size 500x400 with 1 Axes>"
      ]
     },
     "metadata": {},
     "output_type": "display_data"
    },
    {
     "data": {
      "image/png": "[encoded data removed]",
      "text/plain": [
       "<Figure size 500x400 with 1 Axes>"
      ]
     },
     "metadata": {},
     "output_type": "display_data"
    },
    {
     "data": {
      "image/png": "[encoded data removed]",
      "text/plain": [
       "<Figure size 500x400 with 1 Axes>"
      ]
     },
     "metadata": {},
     "output_type": "display_data"
    },
    {
     "data": {
      "image/png": "[encoded data removed]",
      "text/plain": [
       "<Figure size 500x400 with 1 Axes>"
      ]
     },
     "metadata": {},
     "output_type": "display_data"
    },
    {
     "data": {
      "image/png": "[encoded data removed]",
      "text/plain": [
       "<Figure size 500x400 with 1 Axes>"
      ]
     },
     "metadata": {},
     "output_type": "display_data"
    }
   ],
   "source": [
    "for col_name in col:\n",
    "    if (insurance[col_name].dtypes=='int64' or insurance[col_name].dtypes=='float64'):\n",
    "        plt.figure(figsize=(5,4))\n",
    "        plt.boxplot(insurance[col_name])\n",
    "        plt.xlabel(col_name)\n",
    "        plt.ylabel('count')\n",
    "        plt.show()"
   ]
  },
  {
   "cell_type": "code",
   "execution_count": 147,
   "id": "16c91d47",
   "metadata": {},
   "outputs": [],
   "source": [
    "#treating outliers"
   ]
  },
  {
   "cell_type": "code",
   "execution_count": 148,
   "id": "d8043889",
   "metadata": {},
   "outputs": [],
   "source": [
    "Q1 = insurance.bmi.quantile(0.25)\n",
    "Q3 = insurance.bmi.quantile(0.75)"
   ]
  },
  {
   "cell_type": "code",
   "execution_count": 149,
   "id": "732565ba",
   "metadata": {},
   "outputs": [
    {
     "data": {
      "text/plain": [
       "26.315"
      ]
     },
     "execution_count": 149,
     "metadata": {},
     "output_type": "execute_result"
    }
   ],
   "source": [
    "Q1"
   ]
  },
  {
   "cell_type": "code",
   "execution_count": 150,
   "id": "48efb84b",
   "metadata": {},
   "outputs": [
    {
     "data": {
      "text/plain": [
       "34.65625"
      ]
     },
     "execution_count": 150,
     "metadata": {},
     "output_type": "execute_result"
    }
   ],
   "source": [
    "Q3"
   ]
  },
  {
   "cell_type": "code",
   "execution_count": 151,
   "id": "f1751a03",
   "metadata": {},
   "outputs": [
    {
     "data": {
      "text/plain": [
       "8.341249999999999"
      ]
     },
     "execution_count": 151,
     "metadata": {},
     "output_type": "execute_result"
    }
   ],
   "source": [
    "IQR = Q3-Q1\n",
    "IQR"
   ]
  },
  {
   "cell_type": "code",
   "execution_count": null,
   "id": "b216b1e8",
   "metadata": {},
   "outputs": [],
   "source": []
  },
  {
   "cell_type": "code",
   "execution_count": 152,
   "id": "4f7aba51",
   "metadata": {},
   "outputs": [],
   "source": [
    "Q1 = insurance.bmi.quantile(0.25)\n",
    "Q3 = insurance.bmi.quantile(0.75)\n",
    "IQR = Q3-Q1\n",
    "insurance = insurance[(insurance.bmi >= Q1 - 1.5*IQR) & (insurance.bmi <= Q3 + 1.5*IQR)]\n",
    "\n",
    "Q1 = insurance.past_consultations.quantile(0.25)\n",
    "Q3 = insurance.past_consultations.quantile(0.75)\n",
    "IQR = Q3-Q1\n",
    "insurance = insurance[(insurance.past_consultations >= Q1-1.5*IQR) & (insurance.past_consultations <= Q3+1.5*IQR)]\n",
    "\n",
    "Q1 = insurance.Hospital_expenditure.quantile(0.25)\n",
    "Q3 = insurance.Hospital_expenditure.quantile(0.75)\n",
    "IQR = Q3-Q1\n",
    "insurance = insurance[(insurance.Hospital_expenditure >= Q1-1.5*IQR) & (insurance.Hospital_expenditure <= Q3+1.5*IQR)]\n",
    "\n",
    "Q1 = insurance.Anual_Salary.quantile(0.25)\n",
    "Q3 = insurance.Anual_Salary.quantile(0.75)\n",
    "IQR = Q3-Q1\n",
    "insurance = insurance[(insurance.Anual_Salary >= Q1-1.5*IQR) & (insurance.Anual_Salary <= Q3+1.5*IQR)]"
   ]
  },
  {
   "cell_type": "code",
   "execution_count": 153,
   "id": "8bb7d59b",
   "metadata": {},
   "outputs": [
    {
     "data": {
      "text/plain": [
       "(1030, 13)"
      ]
     },
     "execution_count": 153,
     "metadata": {},
     "output_type": "execute_result"
    }
   ],
   "source": [
    "insurance.shape"
   ]
  },
  {
   "cell_type": "code",
   "execution_count": 154,
   "id": "620f8692",
   "metadata": {},
   "outputs": [
    {
     "data": {
      "image/png": "[encoded data removed]",
      "text/plain": [
       "<Figure size 500x400 with 1 Axes>"
      ]
     },
     "metadata": {},
     "output_type": "display_data"
    },
    {
     "data": {
      "image/png": "[encoded data removed]",
      "text/plain": [
       "<Figure size 500x400 with 1 Axes>"
      ]
     },
     "metadata": {},
     "output_type": "display_data"
    },
    {
     "data": {
      "image/png": "[encoded data removed]",
      "text/plain": [
       "<Figure size 500x400 with 1 Axes>"
      ]
     },
     "metadata": {},
     "output_type": "display_data"
    },
    {
     "data": {
      "image/png": "[encoded data removed]",
      "text/plain": [
       "<Figure size 500x400 with 1 Axes>"
      ]
     },
     "metadata": {},
     "output_type": "display_data"
    },
    {
     "data": {
      "image/png": "[encoded data removed]",
      "text/plain": [
       "<Figure size 500x400 with 1 Axes>"
      ]
     },
     "metadata": {},
     "output_type": "display_data"
    },
    {
     "data": {
      "image/png": "[encoded data removed]",
      "text/plain": [
       "<Figure size 500x400 with 1 Axes>"
      ]
     },
     "metadata": {},
     "output_type": "display_data"
    },
    {
     "data": {
      "image/png": "[encoded data removed]",
      "text/plain": [
       "<Figure size 500x400 with 1 Axes>"
      ]
     },
     "metadata": {},
     "output_type": "display_data"
    },
    {
     "data": {
      "image/png": "[encoded data removed]",
      "text/plain": [
       "<Figure size 500x400 with 1 Axes>"
      ]
     },
     "metadata": {},
     "output_type": "display_data"
    },
    {
     "data": {
      "image/png": "[encoded data removed]",
      "text/plain": [
       "<Figure size 500x400 with 1 Axes>"
      ]
     },
     "metadata": {},
     "output_type": "display_data"
    },
    {
     "data": {
      "image/png": "[encoded data removed]",
      "text/plain": [
       "<Figure size 500x400 with 1 Axes>"
      ]
     },
     "metadata": {},
     "output_type": "display_data"
    }
   ],
   "source": [
    "for col_name in col:\n",
    "    if(insurance[col_name].dtypes == 'int64' or insurance[col_name].dtypes == 'float64'):\n",
    "        plt.figure(figsize=(5,4))\n",
    "        plt.boxplot(insurance[col_name])\n",
    "        plt.xlabel(col_name)\n",
    "        plt.ylabel('count')\n",
    "        plt.show()"
   ]
  },
  {
   "cell_type": "code",
   "execution_count": 155,
   "id": "86b09364",
   "metadata": {},
   "outputs": [],
   "source": [
    "# correlation analysis"
   ]
  },
  {
   "cell_type": "code",
   "execution_count": 156,
   "id": "f610c199",
   "metadata": {},
   "outputs": [
    {
     "name": "stdout",
     "output_type": "stream",
     "text": [
      "<class 'pandas.core.frame.DataFrame'>\n",
      "Index: 1030 entries, 0 to 1069\n",
      "Data columns (total 13 columns):\n",
      " #   Column                           Non-Null Count  Dtype  \n",
      "---  ------                           --------------  -----  \n",
      " 0   age                              1030 non-null   float64\n",
      " 1   sex                              1030 non-null   object \n",
      " 2   bmi                              1030 non-null   float64\n",
      " 3   children                         1030 non-null   float64\n",
      " 4   smoker                           1030 non-null   object \n",
      " 5   Claim_Amount                     1030 non-null   float64\n",
      " 6   past_consultations               1030 non-null   float64\n",
      " 7   num_of_steps                     1030 non-null   float64\n",
      " 8   Hospital_expenditure             1030 non-null   float64\n",
      " 9   NUmber_of_past_hospitalizations  1030 non-null   float64\n",
      " 10  Anual_Salary                     1030 non-null   float64\n",
      " 11  region                           1030 non-null   object \n",
      " 12  charges                          1030 non-null   float64\n",
      "dtypes: float64(10), object(3)\n",
      "memory usage: 112.7+ KB\n"
     ]
    }
   ],
   "source": [
    "insurance.info()"
   ]
  },
  {
   "cell_type": "code",
   "execution_count": 157,
   "id": "0ebe62c1",
   "metadata": {},
   "outputs": [
    {
     "data": {
      "text/plain": [
       "Index(['age', 'sex', 'bmi', 'children', 'smoker', 'Claim_Amount',\n",
       "       'past_consultations', 'num_of_steps', 'Hospital_expenditure',\n",
       "       'NUmber_of_past_hospitalizations', 'Anual_Salary', 'region', 'charges'],\n",
       "      dtype='object')"
      ]
     },
     "execution_count": 157,
     "metadata": {},
     "output_type": "execute_result"
    }
   ],
   "source": [
    "insurance.columns"
   ]
  },
  {
   "cell_type": "code",
   "execution_count": 158,
   "id": "5c718a02",
   "metadata": {},
   "outputs": [],
   "source": [
    "# dropping non numerical columns for correlation analysis"
   ]
  },
  {
   "cell_type": "code",
   "execution_count": 159,
   "id": "ea4ef374",
   "metadata": {},
   "outputs": [],
   "source": [
    "insurance.drop(columns=['sex','smoker','region'], inplace=True)"
   ]
  },
  {
   "cell_type": "code",
   "execution_count": 160,
   "id": "6d7e8e10",
   "metadata": {},
   "outputs": [
    {
     "name": "stdout",
     "output_type": "stream",
     "text": [
      "<class 'pandas.core.frame.DataFrame'>\n",
      "Index: 1030 entries, 0 to 1069\n",
      "Data columns (total 10 columns):\n",
      " #   Column                           Non-Null Count  Dtype  \n",
      "---  ------                           --------------  -----  \n",
      " 0   age                              1030 non-null   float64\n",
      " 1   bmi                              1030 non-null   float64\n",
      " 2   children                         1030 non-null   float64\n",
      " 3   Claim_Amount                     1030 non-null   float64\n",
      " 4   past_consultations               1030 non-null   float64\n",
      " 5   num_of_steps                     1030 non-null   float64\n",
      " 6   Hospital_expenditure             1030 non-null   float64\n",
      " 7   NUmber_of_past_hospitalizations  1030 non-null   float64\n",
      " 8   Anual_Salary                     1030 non-null   float64\n",
      " 9   charges                          1030 non-null   float64\n",
      "dtypes: float64(10)\n",
      "memory usage: 88.5 KB\n"
     ]
    }
   ],
   "source": [
    "insurance.info()"
   ]
  },
  {
   "cell_type": "code",
   "execution_count": 161,
   "id": "6f9411a1",
   "metadata": {},
   "outputs": [
    {
     "data": {
      "text/html": [
       "<div>\n",
       "<style scoped>\n",
       "    .dataframe tbody tr th:only-of-type {\n",
       "        vertical-align: middle;\n",
       "    }\n",
       "\n",
       "    .dataframe tbody tr th {\n",
       "        vertical-align: top;\n",
       "    }\n",
       "\n",
       "    .dataframe thead th {\n",
       "        text-align: right;\n",
       "    }\n",
       "</style>\n",
       "<table border=\"1\" class=\"dataframe\">\n",
       "  <thead>\n",
       "    <tr style=\"text-align: right;\">\n",
       "      <th></th>\n",
       "      <th>age</th>\n",
       "      <th>bmi</th>\n",
       "      <th>children</th>\n",
       "      <th>Claim_Amount</th>\n",
       "      <th>past_consultations</th>\n",
       "      <th>num_of_steps</th>\n",
       "      <th>Hospital_expenditure</th>\n",
       "      <th>NUmber_of_past_hospitalizations</th>\n",
       "      <th>Anual_Salary</th>\n",
       "      <th>charges</th>\n",
       "    </tr>\n",
       "  </thead>\n",
       "  <tbody>\n",
       "    <tr>\n",
       "      <th>age</th>\n",
       "      <td>1.000000</td>\n",
       "      <td>0.155957</td>\n",
       "      <td>0.045371</td>\n",
       "      <td>0.117750</td>\n",
       "      <td>0.172063</td>\n",
       "      <td>0.749468</td>\n",
       "      <td>0.160555</td>\n",
       "      <td>0.519538</td>\n",
       "      <td>0.490802</td>\n",
       "      <td>0.676071</td>\n",
       "    </tr>\n",
       "    <tr>\n",
       "      <th>bmi</th>\n",
       "      <td>0.155957</td>\n",
       "      <td>1.000000</td>\n",
       "      <td>0.006477</td>\n",
       "      <td>0.008343</td>\n",
       "      <td>0.023543</td>\n",
       "      <td>0.040324</td>\n",
       "      <td>0.013992</td>\n",
       "      <td>0.016121</td>\n",
       "      <td>0.004105</td>\n",
       "      <td>0.010248</td>\n",
       "    </tr>\n",
       "    <tr>\n",
       "      <th>children</th>\n",
       "      <td>0.045371</td>\n",
       "      <td>0.006477</td>\n",
       "      <td>1.000000</td>\n",
       "      <td>0.041716</td>\n",
       "      <td>0.045472</td>\n",
       "      <td>0.228830</td>\n",
       "      <td>-0.007494</td>\n",
       "      <td>0.316622</td>\n",
       "      <td>0.064840</td>\n",
       "      <td>0.138470</td>\n",
       "    </tr>\n",
       "    <tr>\n",
       "      <th>Claim_Amount</th>\n",
       "      <td>0.117750</td>\n",
       "      <td>0.008343</td>\n",
       "      <td>0.041716</td>\n",
       "      <td>1.000000</td>\n",
       "      <td>0.071569</td>\n",
       "      <td>0.185434</td>\n",
       "      <td>0.054111</td>\n",
       "      <td>0.109748</td>\n",
       "      <td>0.157826</td>\n",
       "      <td>0.192601</td>\n",
       "    </tr>\n",
       "    <tr>\n",
       "      <th>past_consultations</th>\n",
       "      <td>0.172063</td>\n",
       "      <td>0.023543</td>\n",
       "      <td>0.045472</td>\n",
       "      <td>0.071569</td>\n",
       "      <td>1.000000</td>\n",
       "      <td>0.259401</td>\n",
       "      <td>0.088466</td>\n",
       "      <td>0.135498</td>\n",
       "      <td>0.265710</td>\n",
       "      <td>0.278131</td>\n",
       "    </tr>\n",
       "    <tr>\n",
       "      <th>num_of_steps</th>\n",
       "      <td>0.749468</td>\n",
       "      <td>0.040324</td>\n",
       "      <td>0.228830</td>\n",
       "      <td>0.185434</td>\n",
       "      <td>0.259401</td>\n",
       "      <td>1.000000</td>\n",
       "      <td>0.299554</td>\n",
       "      <td>0.714983</td>\n",
       "      <td>0.767247</td>\n",
       "      <td>0.936946</td>\n",
       "    </tr>\n",
       "    <tr>\n",
       "      <th>Hospital_expenditure</th>\n",
       "      <td>0.160555</td>\n",
       "      <td>0.013992</td>\n",
       "      <td>-0.007494</td>\n",
       "      <td>0.054111</td>\n",
       "      <td>0.088466</td>\n",
       "      <td>0.299554</td>\n",
       "      <td>1.000000</td>\n",
       "      <td>0.129334</td>\n",
       "      <td>0.366809</td>\n",
       "      <td>0.358378</td>\n",
       "    </tr>\n",
       "    <tr>\n",
       "      <th>NUmber_of_past_hospitalizations</th>\n",
       "      <td>0.519538</td>\n",
       "      <td>0.016121</td>\n",
       "      <td>0.316622</td>\n",
       "      <td>0.109748</td>\n",
       "      <td>0.135498</td>\n",
       "      <td>0.714983</td>\n",
       "      <td>0.129334</td>\n",
       "      <td>1.000000</td>\n",
       "      <td>0.359422</td>\n",
       "      <td>0.538116</td>\n",
       "    </tr>\n",
       "    <tr>\n",
       "      <th>Anual_Salary</th>\n",
       "      <td>0.490802</td>\n",
       "      <td>0.004105</td>\n",
       "      <td>0.064840</td>\n",
       "      <td>0.157826</td>\n",
       "      <td>0.265710</td>\n",
       "      <td>0.767247</td>\n",
       "      <td>0.366809</td>\n",
       "      <td>0.359422</td>\n",
       "      <td>1.000000</td>\n",
       "      <td>0.892308</td>\n",
       "    </tr>\n",
       "    <tr>\n",
       "      <th>charges</th>\n",
       "      <td>0.676071</td>\n",
       "      <td>0.010248</td>\n",
       "      <td>0.138470</td>\n",
       "      <td>0.192601</td>\n",
       "      <td>0.278131</td>\n",
       "      <td>0.936946</td>\n",
       "      <td>0.358378</td>\n",
       "      <td>0.538116</td>\n",
       "      <td>0.892308</td>\n",
       "      <td>1.000000</td>\n",
       "    </tr>\n",
       "  </tbody>\n",
       "</table>\n",
       "</div>"
      ],
      "text/plain": [
       "                                      age       bmi  children  Claim_Amount  \\\n",
       "age                              1.000000  0.155957  0.045371      0.117750   \n",
       "bmi                              0.155957  1.000000  0.006477      0.008343   \n",
       "children                         0.045371  0.006477  1.000000      0.041716   \n",
       "Claim_Amount                     0.117750  0.008343  0.041716      1.000000   \n",
       "past_consultations               0.172063  0.023543  0.045472      0.071569   \n",
       "num_of_steps                     0.749468  0.040324  0.228830      0.185434   \n",
       "Hospital_expenditure             0.160555  0.013992 -0.007494      0.054111   \n",
       "NUmber_of_past_hospitalizations  0.519538  0.016121  0.316622      0.109748   \n",
       "Anual_Salary                     0.490802  0.004105  0.064840      0.157826   \n",
       "charges                          0.676071  0.010248  0.138470      0.192601   \n",
       "\n",
       "                                 past_consultations  num_of_steps  \\\n",
       "age                                        0.172063      0.749468   \n",
       "bmi                                        0.023543      0.040324   \n",
       "children                                   0.045472      0.228830   \n",
       "Claim_Amount                               0.071569      0.185434   \n",
       "past_consultations                         1.000000      0.259401   \n",
       "num_of_steps                               0.259401      1.000000   \n",
       "Hospital_expenditure                       0.088466      0.299554   \n",
       "NUmber_of_past_hospitalizations            0.135498      0.714983   \n",
       "Anual_Salary                               0.265710      0.767247   \n",
       "charges                                    0.278131      0.936946   \n",
       "\n",
       "                                 Hospital_expenditure  \\\n",
       "age                                          0.160555   \n",
       "bmi                                          0.013992   \n",
       "children                                    -0.007494   \n",
       "Claim_Amount                                 0.054111   \n",
       "past_consultations                           0.088466   \n",
       "num_of_steps                                 0.299554   \n",
       "Hospital_expenditure                         1.000000   \n",
       "NUmber_of_past_hospitalizations              0.129334   \n",
       "Anual_Salary                                 0.366809   \n",
       "charges                                      0.358378   \n",
       "\n",
       "                                 NUmber_of_past_hospitalizations  \\\n",
       "age                                                     0.519538   \n",
       "bmi                                                     0.016121   \n",
       "children                                                0.316622   \n",
       "Claim_Amount                                            0.109748   \n",
       "past_consultations                                      0.135498   \n",
       "num_of_steps                                            0.714983   \n",
       "Hospital_expenditure                                    0.129334   \n",
       "NUmber_of_past_hospitalizations                         1.000000   \n",
       "Anual_Salary                                            0.359422   \n",
       "charges                                                 0.538116   \n",
       "\n",
       "                                 Anual_Salary   charges  \n",
       "age                                  0.490802  0.676071  \n",
       "bmi                                  0.004105  0.010248  \n",
       "children                             0.064840  0.138470  \n",
       "Claim_Amount                         0.157826  0.192601  \n",
       "past_consultations                   0.265710  0.278131  \n",
       "num_of_steps                         0.767247  0.936946  \n",
       "Hospital_expenditure                 0.366809  0.358378  \n",
       "NUmber_of_past_hospitalizations      0.359422  0.538116  \n",
       "Anual_Salary                         1.000000  0.892308  \n",
       "charges                              0.892308  1.000000  "
      ]
     },
     "execution_count": 161,
     "metadata": {},
     "output_type": "execute_result"
    }
   ],
   "source": [
    "insurance.corr()"
   ]
  },
  {
   "cell_type": "code",
   "execution_count": 162,
   "id": "26352ee3",
   "metadata": {},
   "outputs": [],
   "source": [
    "cor1 = insurance.corr().iloc[-1,:] # Corelattion of all the columns with charges column"
   ]
  },
  {
   "cell_type": "code",
   "execution_count": 163,
   "id": "35467015",
   "metadata": {},
   "outputs": [
    {
     "data": {
      "text/plain": [
       "age                                0.676071\n",
       "bmi                                0.010248\n",
       "children                           0.138470\n",
       "Claim_Amount                       0.192601\n",
       "past_consultations                 0.278131\n",
       "num_of_steps                       0.936946\n",
       "Hospital_expenditure               0.358378\n",
       "NUmber_of_past_hospitalizations    0.538116\n",
       "Anual_Salary                       0.892308\n",
       "charges                            1.000000\n",
       "Name: charges, dtype: float64"
      ]
     },
     "execution_count": 163,
     "metadata": {},
     "output_type": "execute_result"
    }
   ],
   "source": [
    "cor1"
   ]
  },
  {
   "cell_type": "code",
   "execution_count": 164,
   "id": "ef37a040",
   "metadata": {},
   "outputs": [],
   "source": [
    "cor2 = insurance.iloc[:,:-1].corr()  #corelation between the independent columns"
   ]
  },
  {
   "cell_type": "code",
   "execution_count": 165,
   "id": "a0794abf",
   "metadata": {},
   "outputs": [
    {
     "data": {
      "text/html": [
       "<div>\n",
       "<style scoped>\n",
       "    .dataframe tbody tr th:only-of-type {\n",
       "        vertical-align: middle;\n",
       "    }\n",
       "\n",
       "    .dataframe tbody tr th {\n",
       "        vertical-align: top;\n",
       "    }\n",
       "\n",
       "    .dataframe thead th {\n",
       "        text-align: right;\n",
       "    }\n",
       "</style>\n",
       "<table border=\"1\" class=\"dataframe\">\n",
       "  <thead>\n",
       "    <tr style=\"text-align: right;\">\n",
       "      <th></th>\n",
       "      <th>age</th>\n",
       "      <th>bmi</th>\n",
       "      <th>children</th>\n",
       "      <th>Claim_Amount</th>\n",
       "      <th>past_consultations</th>\n",
       "      <th>num_of_steps</th>\n",
       "      <th>Hospital_expenditure</th>\n",
       "      <th>NUmber_of_past_hospitalizations</th>\n",
       "      <th>Anual_Salary</th>\n",
       "    </tr>\n",
       "  </thead>\n",
       "  <tbody>\n",
       "    <tr>\n",
       "      <th>age</th>\n",
       "      <td>1.000000</td>\n",
       "      <td>0.155957</td>\n",
       "      <td>0.045371</td>\n",
       "      <td>0.117750</td>\n",
       "      <td>0.172063</td>\n",
       "      <td>0.749468</td>\n",
       "      <td>0.160555</td>\n",
       "      <td>0.519538</td>\n",
       "      <td>0.490802</td>\n",
       "    </tr>\n",
       "    <tr>\n",
       "      <th>bmi</th>\n",
       "      <td>0.155957</td>\n",
       "      <td>1.000000</td>\n",
       "      <td>0.006477</td>\n",
       "      <td>0.008343</td>\n",
       "      <td>0.023543</td>\n",
       "      <td>0.040324</td>\n",
       "      <td>0.013992</td>\n",
       "      <td>0.016121</td>\n",
       "      <td>0.004105</td>\n",
       "    </tr>\n",
       "    <tr>\n",
       "      <th>children</th>\n",
       "      <td>0.045371</td>\n",
       "      <td>0.006477</td>\n",
       "      <td>1.000000</td>\n",
       "      <td>0.041716</td>\n",
       "      <td>0.045472</td>\n",
       "      <td>0.228830</td>\n",
       "      <td>-0.007494</td>\n",
       "      <td>0.316622</td>\n",
       "      <td>0.064840</td>\n",
       "    </tr>\n",
       "    <tr>\n",
       "      <th>Claim_Amount</th>\n",
       "      <td>0.117750</td>\n",
       "      <td>0.008343</td>\n",
       "      <td>0.041716</td>\n",
       "      <td>1.000000</td>\n",
       "      <td>0.071569</td>\n",
       "      <td>0.185434</td>\n",
       "      <td>0.054111</td>\n",
       "      <td>0.109748</td>\n",
       "      <td>0.157826</td>\n",
       "    </tr>\n",
       "    <tr>\n",
       "      <th>past_consultations</th>\n",
       "      <td>0.172063</td>\n",
       "      <td>0.023543</td>\n",
       "      <td>0.045472</td>\n",
       "      <td>0.071569</td>\n",
       "      <td>1.000000</td>\n",
       "      <td>0.259401</td>\n",
       "      <td>0.088466</td>\n",
       "      <td>0.135498</td>\n",
       "      <td>0.265710</td>\n",
       "    </tr>\n",
       "    <tr>\n",
       "      <th>num_of_steps</th>\n",
       "      <td>0.749468</td>\n",
       "      <td>0.040324</td>\n",
       "      <td>0.228830</td>\n",
       "      <td>0.185434</td>\n",
       "      <td>0.259401</td>\n",
       "      <td>1.000000</td>\n",
       "      <td>0.299554</td>\n",
       "      <td>0.714983</td>\n",
       "      <td>0.767247</td>\n",
       "    </tr>\n",
       "    <tr>\n",
       "      <th>Hospital_expenditure</th>\n",
       "      <td>0.160555</td>\n",
       "      <td>0.013992</td>\n",
       "      <td>-0.007494</td>\n",
       "      <td>0.054111</td>\n",
       "      <td>0.088466</td>\n",
       "      <td>0.299554</td>\n",
       "      <td>1.000000</td>\n",
       "      <td>0.129334</td>\n",
       "      <td>0.366809</td>\n",
       "    </tr>\n",
       "    <tr>\n",
       "      <th>NUmber_of_past_hospitalizations</th>\n",
       "      <td>0.519538</td>\n",
       "      <td>0.016121</td>\n",
       "      <td>0.316622</td>\n",
       "      <td>0.109748</td>\n",
       "      <td>0.135498</td>\n",
       "      <td>0.714983</td>\n",
       "      <td>0.129334</td>\n",
       "      <td>1.000000</td>\n",
       "      <td>0.359422</td>\n",
       "    </tr>\n",
       "    <tr>\n",
       "      <th>Anual_Salary</th>\n",
       "      <td>0.490802</td>\n",
       "      <td>0.004105</td>\n",
       "      <td>0.064840</td>\n",
       "      <td>0.157826</td>\n",
       "      <td>0.265710</td>\n",
       "      <td>0.767247</td>\n",
       "      <td>0.366809</td>\n",
       "      <td>0.359422</td>\n",
       "      <td>1.000000</td>\n",
       "    </tr>\n",
       "  </tbody>\n",
       "</table>\n",
       "</div>"
      ],
      "text/plain": [
       "                                      age       bmi  children  Claim_Amount  \\\n",
       "age                              1.000000  0.155957  0.045371      0.117750   \n",
       "bmi                              0.155957  1.000000  0.006477      0.008343   \n",
       "children                         0.045371  0.006477  1.000000      0.041716   \n",
       "Claim_Amount                     0.117750  0.008343  0.041716      1.000000   \n",
       "past_consultations               0.172063  0.023543  0.045472      0.071569   \n",
       "num_of_steps                     0.749468  0.040324  0.228830      0.185434   \n",
       "Hospital_expenditure             0.160555  0.013992 -0.007494      0.054111   \n",
       "NUmber_of_past_hospitalizations  0.519538  0.016121  0.316622      0.109748   \n",
       "Anual_Salary                     0.490802  0.004105  0.064840      0.157826   \n",
       "\n",
       "                                 past_consultations  num_of_steps  \\\n",
       "age                                        0.172063      0.749468   \n",
       "bmi                                        0.023543      0.040324   \n",
       "children                                   0.045472      0.228830   \n",
       "Claim_Amount                               0.071569      0.185434   \n",
       "past_consultations                         1.000000      0.259401   \n",
       "num_of_steps                               0.259401      1.000000   \n",
       "Hospital_expenditure                       0.088466      0.299554   \n",
       "NUmber_of_past_hospitalizations            0.135498      0.714983   \n",
       "Anual_Salary                               0.265710      0.767247   \n",
       "\n",
       "                                 Hospital_expenditure  \\\n",
       "age                                          0.160555   \n",
       "bmi                                          0.013992   \n",
       "children                                    -0.007494   \n",
       "Claim_Amount                                 0.054111   \n",
       "past_consultations                           0.088466   \n",
       "num_of_steps                                 0.299554   \n",
       "Hospital_expenditure                         1.000000   \n",
       "NUmber_of_past_hospitalizations              0.129334   \n",
       "Anual_Salary                                 0.366809   \n",
       "\n",
       "                                 NUmber_of_past_hospitalizations  Anual_Salary  \n",
       "age                                                     0.519538      0.490802  \n",
       "bmi                                                     0.016121      0.004105  \n",
       "children                                                0.316622      0.064840  \n",
       "Claim_Amount                                            0.109748      0.157826  \n",
       "past_consultations                                      0.135498      0.265710  \n",
       "num_of_steps                                            0.714983      0.767247  \n",
       "Hospital_expenditure                                    0.129334      0.366809  \n",
       "NUmber_of_past_hospitalizations                         1.000000      0.359422  \n",
       "Anual_Salary                                            0.359422      1.000000  "
      ]
     },
     "execution_count": 165,
     "metadata": {},
     "output_type": "execute_result"
    }
   ],
   "source": [
    "cor2"
   ]
  },
  {
   "cell_type": "code",
   "execution_count": 166,
   "id": "f61b0bdd",
   "metadata": {},
   "outputs": [],
   "source": [
    "%matplotlib inline\n",
    "import seaborn as sns"
   ]
  },
  {
   "cell_type": "code",
   "execution_count": 167,
   "id": "6c543ca8",
   "metadata": {},
   "outputs": [
    {
     "data": {
      "image/png": "[encoded data removed]",
      "text/plain": [
       "<Figure size 640x480 with 2 Axes>"
      ]
     },
     "metadata": {},
     "output_type": "display_data"
    }
   ],
   "source": [
    "sns.heatmap(cor2)\n",
    "plt.show()"
   ]
  },
  {
   "cell_type": "code",
   "execution_count": 168,
   "id": "b94554a6",
   "metadata": {},
   "outputs": [],
   "source": [
    "from sklearn.linear_model import LinearRegression\n",
    "from sklearn.model_selection import train_test_split"
   ]
  },
  {
   "cell_type": "code",
   "execution_count": 169,
   "id": "c4a8be8c",
   "metadata": {},
   "outputs": [],
   "source": [
    "x = insurance.loc[:,['age','bmi','children','Claim_Amount','past_consultations','num_of_steps','Hospital_expenditure',\n",
    "                  'NUmber_of_past_hospitalizations','Anual_Salary']]\n",
    "y = insurance.iloc[:,-1]"
   ]
  },
  {
   "cell_type": "code",
   "execution_count": 170,
   "id": "ecc5f732",
   "metadata": {},
   "outputs": [],
   "source": [
    "x_train, x_test, y_train, y_test = train_test_split(x,y, train_size = 0.8, random_state = 1)"
   ]
  },
  {
   "cell_type": "code",
   "execution_count": 171,
   "id": "11ce7b0e",
   "metadata": {},
   "outputs": [
    {
     "name": "stdout",
     "output_type": "stream",
     "text": [
      "(824, 9)\n",
      "(206, 9)\n",
      "(824,)\n",
      "(206,)\n"
     ]
    }
   ],
   "source": [
    "print(x_train.shape)\n",
    "print(x_test.shape)\n",
    "print(y_train.shape)\n",
    "print(y_test.shape)"
   ]
  },
  {
   "cell_type": "code",
   "execution_count": 172,
   "id": "a98fe310",
   "metadata": {},
   "outputs": [],
   "source": [
    "l_model = LinearRegression()"
   ]
  },
  {
   "cell_type": "code",
   "execution_count": 173,
   "id": "3391a822",
   "metadata": {},
   "outputs": [
    {
     "data": {
      "text/html": [
       "<style>#sk-container-id-2 {color: black;}#sk-container-id-2 pre{padding: 0;}#sk-container-id-2 div.sk-toggleable {background-color: white;}#sk-container-id-2 label.sk-toggleable__label {cursor: pointer;display: block;width: 100%;margin-bottom: 0;padding: 0.3em;box-sizing: border-box;text-align: center;}#sk-container-id-2 label.sk-toggleable__label-arrow:before {content: \"▸\";float: left;margin-right: 0.25em;color: #696969;}#sk-container-id-2 label.sk-toggleable__label-arrow:hover:before {color: black;}#sk-container-id-2 div.sk-estimator:hover label.sk-toggleable__label-arrow:before {color: black;}#sk-container-id-2 div.sk-toggleable__content {max-height: 0;max-width: 0;overflow: hidden;text-align: left;background-color: #f0f8ff;}#sk-container-id-2 div.sk-toggleable__content pre {margin: 0.2em;color: black;border-radius: 0.25em;background-color: #f0f8ff;}#sk-container-id-2 input.sk-toggleable__control:checked~div.sk-toggleable__content {max-height: 200px;max-width: 100%;overflow: auto;}#sk-container-id-2 input.sk-toggleable__control:checked~label.sk-toggleable__label-arrow:before {content: \"▾\";}#sk-container-id-2 div.sk-estimator input.sk-toggleable__control:checked~label.sk-toggleable__label {background-color: #d4ebff;}#sk-container-id-2 div.sk-label input.sk-toggleable__control:checked~label.sk-toggleable__label {background-color: #d4ebff;}#sk-container-id-2 input.sk-hidden--visually {border: 0;clip: rect(1px 1px 1px 1px);clip: rect(1px, 1px, 1px, 1px);height: 1px;margin: -1px;overflow: hidden;padding: 0;position: absolute;width: 1px;}#sk-container-id-2 div.sk-estimator {font-family: monospace;background-color: #f0f8ff;border: 1px dotted black;border-radius: 0.25em;box-sizing: border-box;margin-bottom: 0.5em;}#sk-container-id-2 div.sk-estimator:hover {background-color: #d4ebff;}#sk-container-id-2 div.sk-parallel-item::after {content: \"\";width: 100%;border-bottom: 1px solid gray;flex-grow: 1;}#sk-container-id-2 div.sk-label:hover label.sk-toggleable__label {background-color: #d4ebff;}#sk-container-id-2 div.sk-serial::before {content: \"\";position: absolute;border-left: 1px solid gray;box-sizing: border-box;top: 0;bottom: 0;left: 50%;z-index: 0;}#sk-container-id-2 div.sk-serial {display: flex;flex-direction: column;align-items: center;background-color: white;padding-right: 0.2em;padding-left: 0.2em;position: relative;}#sk-container-id-2 div.sk-item {position: relative;z-index: 1;}#sk-container-id-2 div.sk-parallel {display: flex;align-items: stretch;justify-content: center;background-color: white;position: relative;}#sk-container-id-2 div.sk-item::before, #sk-container-id-2 div.sk-parallel-item::before {content: \"\";position: absolute;border-left: 1px solid gray;box-sizing: border-box;top: 0;bottom: 0;left: 50%;z-index: -1;}#sk-container-id-2 div.sk-parallel-item {display: flex;flex-direction: column;z-index: 1;position: relative;background-color: white;}#sk-container-id-2 div.sk-parallel-item:first-child::after {align-self: flex-end;width: 50%;}#sk-container-id-2 div.sk-parallel-item:last-child::after {align-self: flex-start;width: 50%;}#sk-container-id-2 div.sk-parallel-item:only-child::after {width: 0;}#sk-container-id-2 div.sk-dashed-wrapped {border: 1px dashed gray;margin: 0 0.4em 0.5em 0.4em;box-sizing: border-box;padding-bottom: 0.4em;background-color: white;}#sk-container-id-2 div.sk-label label {font-family: monospace;font-weight: bold;display: inline-block;line-height: 1.2em;}#sk-container-id-2 div.sk-label-container {text-align: center;}#sk-container-id-2 div.sk-container {/* jupyter's `normalize.less` sets `[hidden] { display: none; }` but bootstrap.min.css set `[hidden] { display: none !important; }` so we also need the `!important` here to be able to override the default hidden behavior on the sphinx rendered scikit-learn.org. See: https://github.com/scikit-learn/scikit-learn/issues/21755 */display: inline-block !important;position: relative;}#sk-container-id-2 div.sk-text-repr-fallback {display: none;}</style><div id=\"sk-container-id-2\" class=\"sk-top-container\"><div class=\"sk-text-repr-fallback\"><pre>LinearRegression()</pre><b>In a Jupyter environment, please rerun this cell to show the HTML representation or trust the notebook. <br />On GitHub, the HTML representation is unable to render, please try loading this page with nbviewer.org.</b></div><div class=\"sk-container\" hidden><div class=\"sk-item\"><div class=\"sk-estimator sk-toggleable\"><input class=\"sk-toggleable__control sk-hidden--visually\" id=\"sk-estimator-id-2\" type=\"checkbox\" checked><label for=\"sk-estimator-id-2\" class=\"sk-toggleable__label sk-toggleable__label-arrow\">LinearRegression</label><div class=\"sk-toggleable__content\"><pre>LinearRegression()</pre></div></div></div></div></div>"
      ],
      "text/plain": [
       "LinearRegression()"
      ]
     },
     "execution_count": 173,
     "metadata": {},
     "output_type": "execute_result"
    }
   ],
   "source": [
    "l_model.fit(x_train,y_train)"
   ]
  },
  {
   "cell_type": "code",
   "execution_count": 174,
   "id": "d78ff97c",
   "metadata": {},
   "outputs": [],
   "source": [
    "from statsmodels.stats.outliers_influence import variance_inflation_factor\n",
    "col_list = []\n",
    "for col in insurance.columns:\n",
    "    if((insurance[col].dtype!= 'object') & (col!='charges')):\n",
    "        col_list.append(col)"
   ]
  },
  {
   "cell_type": "code",
   "execution_count": 175,
   "id": "d8d8bf9c",
   "metadata": {},
   "outputs": [
    {
     "data": {
      "text/html": [
       "<div>\n",
       "<style scoped>\n",
       "    .dataframe tbody tr th:only-of-type {\n",
       "        vertical-align: middle;\n",
       "    }\n",
       "\n",
       "    .dataframe tbody tr th {\n",
       "        vertical-align: top;\n",
       "    }\n",
       "\n",
       "    .dataframe thead th {\n",
       "        text-align: right;\n",
       "    }\n",
       "</style>\n",
       "<table border=\"1\" class=\"dataframe\">\n",
       "  <thead>\n",
       "    <tr style=\"text-align: right;\">\n",
       "      <th></th>\n",
       "      <th>age</th>\n",
       "      <th>bmi</th>\n",
       "      <th>children</th>\n",
       "      <th>Claim_Amount</th>\n",
       "      <th>past_consultations</th>\n",
       "      <th>num_of_steps</th>\n",
       "      <th>Hospital_expenditure</th>\n",
       "      <th>NUmber_of_past_hospitalizations</th>\n",
       "      <th>Anual_Salary</th>\n",
       "    </tr>\n",
       "  </thead>\n",
       "  <tbody>\n",
       "    <tr>\n",
       "      <th>0</th>\n",
       "      <td>18.0</td>\n",
       "      <td>23.210</td>\n",
       "      <td>0.0</td>\n",
       "      <td>29087.54313</td>\n",
       "      <td>17.0</td>\n",
       "      <td>715428.0</td>\n",
       "      <td>4.720921e+06</td>\n",
       "      <td>0.0</td>\n",
       "      <td>5.578497e+07</td>\n",
       "    </tr>\n",
       "    <tr>\n",
       "      <th>1</th>\n",
       "      <td>18.0</td>\n",
       "      <td>30.140</td>\n",
       "      <td>0.0</td>\n",
       "      <td>39053.67437</td>\n",
       "      <td>7.0</td>\n",
       "      <td>699157.0</td>\n",
       "      <td>4.329832e+06</td>\n",
       "      <td>0.0</td>\n",
       "      <td>1.370089e+07</td>\n",
       "    </tr>\n",
       "    <tr>\n",
       "      <th>2</th>\n",
       "      <td>18.0</td>\n",
       "      <td>33.330</td>\n",
       "      <td>0.0</td>\n",
       "      <td>39023.62759</td>\n",
       "      <td>19.0</td>\n",
       "      <td>702341.0</td>\n",
       "      <td>6.884861e+06</td>\n",
       "      <td>0.0</td>\n",
       "      <td>7.352311e+07</td>\n",
       "    </tr>\n",
       "    <tr>\n",
       "      <th>3</th>\n",
       "      <td>18.0</td>\n",
       "      <td>33.660</td>\n",
       "      <td>0.0</td>\n",
       "      <td>28185.39332</td>\n",
       "      <td>11.0</td>\n",
       "      <td>700250.0</td>\n",
       "      <td>4.274774e+06</td>\n",
       "      <td>0.0</td>\n",
       "      <td>7.581968e+07</td>\n",
       "    </tr>\n",
       "    <tr>\n",
       "      <th>4</th>\n",
       "      <td>18.0</td>\n",
       "      <td>34.100</td>\n",
       "      <td>0.0</td>\n",
       "      <td>14697.85941</td>\n",
       "      <td>16.0</td>\n",
       "      <td>711584.0</td>\n",
       "      <td>3.787294e+06</td>\n",
       "      <td>0.0</td>\n",
       "      <td>2.301232e+07</td>\n",
       "    </tr>\n",
       "    <tr>\n",
       "      <th>...</th>\n",
       "      <td>...</td>\n",
       "      <td>...</td>\n",
       "      <td>...</td>\n",
       "      <td>...</td>\n",
       "      <td>...</td>\n",
       "      <td>...</td>\n",
       "      <td>...</td>\n",
       "      <td>...</td>\n",
       "      <td>...</td>\n",
       "    </tr>\n",
       "    <tr>\n",
       "      <th>1046</th>\n",
       "      <td>29.0</td>\n",
       "      <td>27.940</td>\n",
       "      <td>1.0</td>\n",
       "      <td>51168.25474</td>\n",
       "      <td>23.0</td>\n",
       "      <td>993751.0</td>\n",
       "      <td>1.665982e+07</td>\n",
       "      <td>1.0</td>\n",
       "      <td>3.712188e+08</td>\n",
       "    </tr>\n",
       "    <tr>\n",
       "      <th>1048</th>\n",
       "      <td>31.0</td>\n",
       "      <td>25.900</td>\n",
       "      <td>3.0</td>\n",
       "      <td>46619.40230</td>\n",
       "      <td>27.0</td>\n",
       "      <td>989387.0</td>\n",
       "      <td>1.361938e+07</td>\n",
       "      <td>1.0</td>\n",
       "      <td>3.812895e+08</td>\n",
       "    </tr>\n",
       "    <tr>\n",
       "      <th>1050</th>\n",
       "      <td>31.0</td>\n",
       "      <td>29.810</td>\n",
       "      <td>0.0</td>\n",
       "      <td>24382.58056</td>\n",
       "      <td>21.0</td>\n",
       "      <td>973924.0</td>\n",
       "      <td>1.028991e+07</td>\n",
       "      <td>1.0</td>\n",
       "      <td>3.745310e+08</td>\n",
       "    </tr>\n",
       "    <tr>\n",
       "      <th>1062</th>\n",
       "      <td>43.0</td>\n",
       "      <td>20.045</td>\n",
       "      <td>2.0</td>\n",
       "      <td>21596.43846</td>\n",
       "      <td>10.0</td>\n",
       "      <td>994419.0</td>\n",
       "      <td>1.083030e+07</td>\n",
       "      <td>1.0</td>\n",
       "      <td>3.696849e+08</td>\n",
       "    </tr>\n",
       "    <tr>\n",
       "      <th>1069</th>\n",
       "      <td>35.0</td>\n",
       "      <td>28.025</td>\n",
       "      <td>0.0</td>\n",
       "      <td>17200.14586</td>\n",
       "      <td>15.0</td>\n",
       "      <td>993979.0</td>\n",
       "      <td>1.247744e+07</td>\n",
       "      <td>1.0</td>\n",
       "      <td>3.696849e+08</td>\n",
       "    </tr>\n",
       "  </tbody>\n",
       "</table>\n",
       "<p>1030 rows × 9 columns</p>\n",
       "</div>"
      ],
      "text/plain": [
       "       age     bmi  children  Claim_Amount  past_consultations  num_of_steps  \\\n",
       "0     18.0  23.210       0.0   29087.54313                17.0      715428.0   \n",
       "1     18.0  30.140       0.0   39053.67437                 7.0      699157.0   \n",
       "2     18.0  33.330       0.0   39023.62759                19.0      702341.0   \n",
       "3     18.0  33.660       0.0   28185.39332                11.0      700250.0   \n",
       "4     18.0  34.100       0.0   14697.85941                16.0      711584.0   \n",
       "...    ...     ...       ...           ...                 ...           ...   \n",
       "1046  29.0  27.940       1.0   51168.25474                23.0      993751.0   \n",
       "1048  31.0  25.900       3.0   46619.40230                27.0      989387.0   \n",
       "1050  31.0  29.810       0.0   24382.58056                21.0      973924.0   \n",
       "1062  43.0  20.045       2.0   21596.43846                10.0      994419.0   \n",
       "1069  35.0  28.025       0.0   17200.14586                15.0      993979.0   \n",
       "\n",
       "      Hospital_expenditure  NUmber_of_past_hospitalizations  Anual_Salary  \n",
       "0             4.720921e+06                              0.0  5.578497e+07  \n",
       "1             4.329832e+06                              0.0  1.370089e+07  \n",
       "2             6.884861e+06                              0.0  7.352311e+07  \n",
       "3             4.274774e+06                              0.0  7.581968e+07  \n",
       "4             3.787294e+06                              0.0  2.301232e+07  \n",
       "...                    ...                              ...           ...  \n",
       "1046          1.665982e+07                              1.0  3.712188e+08  \n",
       "1048          1.361938e+07                              1.0  3.812895e+08  \n",
       "1050          1.028991e+07                              1.0  3.745310e+08  \n",
       "1062          1.083030e+07                              1.0  3.696849e+08  \n",
       "1069          1.247744e+07                              1.0  3.696849e+08  \n",
       "\n",
       "[1030 rows x 9 columns]"
      ]
     },
     "execution_count": 175,
     "metadata": {},
     "output_type": "execute_result"
    }
   ],
   "source": [
    "X = insurance[col_list]\n",
    "X"
   ]
  },
  {
   "cell_type": "code",
   "execution_count": 176,
   "id": "c4209320",
   "metadata": {},
   "outputs": [
    {
     "name": "stdout",
     "output_type": "stream",
     "text": [
      "                           feature        VIF\n",
      "0                              age  15.452095\n",
      "1                              bmi  26.330788\n",
      "2                         children   2.029618\n",
      "3                     Claim_Amount   5.678660\n",
      "4               past_consultations   6.258017\n",
      "5                     num_of_steps  61.574692\n",
      "6             Hospital_expenditure   5.204376\n",
      "7  NUmber_of_past_hospitalizations  12.052060\n",
      "8                     Anual_Salary   5.481823\n"
     ]
    }
   ],
   "source": [
    "X = insurance[col_list]\n",
    "vif_data = pd.DataFrame()\n",
    "vif_data['feature'] = X.columns\n",
    "vif_data['VIF'] = [variance_inflation_factor(X.values,i) for i in range(len(X.columns))]\n",
    "print(vif_data)"
   ]
  },
  {
   "cell_type": "code",
   "execution_count": 177,
   "id": "e06fc425",
   "metadata": {},
   "outputs": [],
   "source": [
    "# Dropping the column with VIF value greate than 5"
   ]
  },
  {
   "cell_type": "code",
   "execution_count": 178,
   "id": "6cc603b3",
   "metadata": {},
   "outputs": [
    {
     "data": {
      "text/plain": [
       "9"
      ]
     },
     "execution_count": 178,
     "metadata": {},
     "output_type": "execute_result"
    }
   ],
   "source": [
    "len(X.columns)"
   ]
  },
  {
   "cell_type": "code",
   "execution_count": 179,
   "id": "1f24d306",
   "metadata": {},
   "outputs": [],
   "source": [
    "insurance = insurance.drop(['num_of_steps'], axis = 1)"
   ]
  },
  {
   "cell_type": "code",
   "execution_count": 182,
   "id": "be487d53",
   "metadata": {},
   "outputs": [],
   "source": [
    "col_list = []\n",
    "for col in insurance.columns:\n",
    "    if((insurance[col].dtype!='object') & (col!='charges')):\n",
    "        col_list.append(col)"
   ]
  },
  {
   "cell_type": "code",
   "execution_count": 183,
   "id": "b21ba444",
   "metadata": {},
   "outputs": [
    {
     "name": "stdout",
     "output_type": "stream",
     "text": [
      "                           feature        VIF\n",
      "0                              age  14.484893\n",
      "1                              bmi  12.261123\n",
      "2                         children   2.017441\n",
      "3                     Claim_Amount   5.243640\n",
      "4               past_consultations   5.842169\n",
      "5             Hospital_expenditure   4.929952\n",
      "6  NUmber_of_past_hospitalizations  10.687768\n",
      "7                     Anual_Salary   5.380679\n"
     ]
    }
   ],
   "source": [
    "X = insurance[col_list]\n",
    "vif_data = pd.DataFrame()\n",
    "vif_data['feature'] = X.columns\n",
    "vif_data['VIF'] = [variance_inflation_factor(X.values,i) for i in range(len(X.columns))]\n",
    "print(vif_data)"
   ]
  },
  {
   "cell_type": "code",
   "execution_count": 184,
   "id": "7bfaa227",
   "metadata": {},
   "outputs": [],
   "source": [
    "insurance = insurance.drop(['age'], axis = 1)"
   ]
  },
  {
   "cell_type": "code",
   "execution_count": 185,
   "id": "2e5f0230",
   "metadata": {},
   "outputs": [],
   "source": [
    "col_list = []\n",
    "for col in insurance.columns:\n",
    "    if((insurance[col].dtype!='object') & (col!='charges')):\n",
    "        col_list.append(col)"
   ]
  },
  {
   "cell_type": "code",
   "execution_count": 186,
   "id": "0212bd15",
   "metadata": {},
   "outputs": [
    {
     "name": "stdout",
     "output_type": "stream",
     "text": [
      "                           feature        VIF\n",
      "0                              bmi  10.323093\n",
      "1                         children   1.978843\n",
      "2                     Claim_Amount   5.228284\n",
      "3               past_consultations   5.821933\n",
      "4             Hospital_expenditure   4.929287\n",
      "5  NUmber_of_past_hospitalizations   8.310570\n",
      "6                     Anual_Salary   4.723495\n"
     ]
    }
   ],
   "source": [
    "X = insurance[col_list]\n",
    "vif_data = pd.DataFrame()\n",
    "vif_data['feature'] = X.columns\n",
    "vif_data['VIF'] = [variance_inflation_factor(X.values,i) for i in range(len(X.columns))]\n",
    "print(vif_data)"
   ]
  },
  {
   "cell_type": "code",
   "execution_count": 187,
   "id": "c999aaa4",
   "metadata": {},
   "outputs": [],
   "source": [
    "insurance = insurance.drop(['bmi'], axis = 1)"
   ]
  },
  {
   "cell_type": "code",
   "execution_count": 188,
   "id": "415a5816",
   "metadata": {},
   "outputs": [],
   "source": [
    "col_list = []\n",
    "for col in insurance.columns:\n",
    "    if((insurance[col].dtype!='object') & (col!='charges')):\n",
    "        col_list.append(col)"
   ]
  },
  {
   "cell_type": "code",
   "execution_count": 189,
   "id": "40a4c103",
   "metadata": {},
   "outputs": [
    {
     "name": "stdout",
     "output_type": "stream",
     "text": [
      "                           feature       VIF\n",
      "0                         children  1.977037\n",
      "1                     Claim_Amount  4.547332\n",
      "2               past_consultations  5.049165\n",
      "3             Hospital_expenditure  4.492630\n",
      "4  NUmber_of_past_hospitalizations  7.245972\n",
      "5                     Anual_Salary  4.688833\n"
     ]
    }
   ],
   "source": [
    "X = insurance[col_list]\n",
    "vif_data = pd.DataFrame()\n",
    "vif_data['feature'] = X.columns\n",
    "vif_data['VIF'] = [variance_inflation_factor(X.values,i) for i in range(len(X.columns))]\n",
    "print(vif_data)"
   ]
  },
  {
   "cell_type": "code",
   "execution_count": 190,
   "id": "29947d48",
   "metadata": {},
   "outputs": [],
   "source": [
    "insurance=insurance.drop(['NUmber_of_past_hospitalizations'], axis=1)"
   ]
  },
  {
   "cell_type": "code",
   "execution_count": 191,
   "id": "4434f672",
   "metadata": {},
   "outputs": [],
   "source": [
    "col_list = []\n",
    "for col in insurance.columns:\n",
    "    if((insurance[col].dtype!='object') & (col!='charges')):\n",
    "        col_list.append(col)"
   ]
  },
  {
   "cell_type": "code",
   "execution_count": 192,
   "id": "2f339f19",
   "metadata": {},
   "outputs": [
    {
     "name": "stdout",
     "output_type": "stream",
     "text": [
      "                feature       VIF\n",
      "0              children  1.713101\n",
      "1          Claim_Amount  4.152224\n",
      "2    past_consultations  4.670212\n",
      "3  Hospital_expenditure  4.320876\n",
      "4          Anual_Salary  4.279483\n"
     ]
    }
   ],
   "source": [
    "X = insurance[col_list]\n",
    "vif_data = pd.DataFrame()\n",
    "vif_data['feature'] = X.columns\n",
    "vif_data['VIF'] = [variance_inflation_factor(X.values,i) for i in range(len(X.columns))]\n",
    "print(vif_data)"
   ]
  },
  {
   "cell_type": "code",
   "execution_count": 193,
   "id": "50566553",
   "metadata": {},
   "outputs": [
    {
     "data": {
      "text/html": [
       "<div>\n",
       "<style scoped>\n",
       "    .dataframe tbody tr th:only-of-type {\n",
       "        vertical-align: middle;\n",
       "    }\n",
       "\n",
       "    .dataframe tbody tr th {\n",
       "        vertical-align: top;\n",
       "    }\n",
       "\n",
       "    .dataframe thead th {\n",
       "        text-align: right;\n",
       "    }\n",
       "</style>\n",
       "<table border=\"1\" class=\"dataframe\">\n",
       "  <thead>\n",
       "    <tr style=\"text-align: right;\">\n",
       "      <th></th>\n",
       "      <th>children</th>\n",
       "      <th>Claim_Amount</th>\n",
       "      <th>past_consultations</th>\n",
       "      <th>Hospital_expenditure</th>\n",
       "      <th>Anual_Salary</th>\n",
       "      <th>charges</th>\n",
       "    </tr>\n",
       "  </thead>\n",
       "  <tbody>\n",
       "    <tr>\n",
       "      <th>0</th>\n",
       "      <td>0.0</td>\n",
       "      <td>29087.54313</td>\n",
       "      <td>17.0</td>\n",
       "      <td>4720920.992</td>\n",
       "      <td>55784970.05</td>\n",
       "      <td>1121.8739</td>\n",
       "    </tr>\n",
       "    <tr>\n",
       "      <th>1</th>\n",
       "      <td>0.0</td>\n",
       "      <td>39053.67437</td>\n",
       "      <td>7.0</td>\n",
       "      <td>4329831.676</td>\n",
       "      <td>13700885.19</td>\n",
       "      <td>1131.5066</td>\n",
       "    </tr>\n",
       "    <tr>\n",
       "      <th>2</th>\n",
       "      <td>0.0</td>\n",
       "      <td>39023.62759</td>\n",
       "      <td>19.0</td>\n",
       "      <td>6884860.774</td>\n",
       "      <td>73523107.27</td>\n",
       "      <td>1135.9407</td>\n",
       "    </tr>\n",
       "    <tr>\n",
       "      <th>3</th>\n",
       "      <td>0.0</td>\n",
       "      <td>28185.39332</td>\n",
       "      <td>11.0</td>\n",
       "      <td>4274773.550</td>\n",
       "      <td>75819679.60</td>\n",
       "      <td>1136.3994</td>\n",
       "    </tr>\n",
       "    <tr>\n",
       "      <th>4</th>\n",
       "      <td>0.0</td>\n",
       "      <td>14697.85941</td>\n",
       "      <td>16.0</td>\n",
       "      <td>3787293.921</td>\n",
       "      <td>23012320.01</td>\n",
       "      <td>1137.0110</td>\n",
       "    </tr>\n",
       "  </tbody>\n",
       "</table>\n",
       "</div>"
      ],
      "text/plain": [
       "   children  Claim_Amount  past_consultations  Hospital_expenditure  \\\n",
       "0       0.0   29087.54313                17.0           4720920.992   \n",
       "1       0.0   39053.67437                 7.0           4329831.676   \n",
       "2       0.0   39023.62759                19.0           6884860.774   \n",
       "3       0.0   28185.39332                11.0           4274773.550   \n",
       "4       0.0   14697.85941                16.0           3787293.921   \n",
       "\n",
       "   Anual_Salary    charges  \n",
       "0   55784970.05  1121.8739  \n",
       "1   13700885.19  1131.5066  \n",
       "2   73523107.27  1135.9407  \n",
       "3   75819679.60  1136.3994  \n",
       "4   23012320.01  1137.0110  "
      ]
     },
     "execution_count": 193,
     "metadata": {},
     "output_type": "execute_result"
    }
   ],
   "source": [
    "insurance.head()"
   ]
  },
  {
   "cell_type": "code",
   "execution_count": 194,
   "id": "fbdbb596",
   "metadata": {},
   "outputs": [],
   "source": [
    "x = insurance.iloc[:,:-1]\n",
    "y = insurance.iloc[:,-1]"
   ]
  },
  {
   "cell_type": "code",
   "execution_count": 197,
   "id": "632e2008",
   "metadata": {},
   "outputs": [],
   "source": [
    "x_train, x_test, y_train, y_test = train_test_split(x,y, train_size = 0.8, random_state = 1)"
   ]
  },
  {
   "cell_type": "code",
   "execution_count": 199,
   "id": "6d2e5c0a",
   "metadata": {},
   "outputs": [
    {
     "name": "stdout",
     "output_type": "stream",
     "text": [
      "(824, 5)\n",
      "(824,)\n",
      "(206, 5)\n",
      "(206,)\n"
     ]
    }
   ],
   "source": [
    "print(x_train.shape)\n",
    "print(y_train.shape)\n",
    "print(x_test.shape)\n",
    "print(y_test.shape)"
   ]
  },
  {
   "cell_type": "code",
   "execution_count": 200,
   "id": "8405e790",
   "metadata": {},
   "outputs": [],
   "source": [
    "l_model = LinearRegression()"
   ]
  },
  {
   "cell_type": "code",
   "execution_count": 201,
   "id": "7a70aaa3",
   "metadata": {},
   "outputs": [
    {
     "data": {
      "text/html": [
       "<style>#sk-container-id-3 {color: black;}#sk-container-id-3 pre{padding: 0;}#sk-container-id-3 div.sk-toggleable {background-color: white;}#sk-container-id-3 label.sk-toggleable__label {cursor: pointer;display: block;width: 100%;margin-bottom: 0;padding: 0.3em;box-sizing: border-box;text-align: center;}#sk-container-id-3 label.sk-toggleable__label-arrow:before {content: \"▸\";float: left;margin-right: 0.25em;color: #696969;}#sk-container-id-3 label.sk-toggleable__label-arrow:hover:before {color: black;}#sk-container-id-3 div.sk-estimator:hover label.sk-toggleable__label-arrow:before {color: black;}#sk-container-id-3 div.sk-toggleable__content {max-height: 0;max-width: 0;overflow: hidden;text-align: left;background-color: #f0f8ff;}#sk-container-id-3 div.sk-toggleable__content pre {margin: 0.2em;color: black;border-radius: 0.25em;background-color: #f0f8ff;}#sk-container-id-3 input.sk-toggleable__control:checked~div.sk-toggleable__content {max-height: 200px;max-width: 100%;overflow: auto;}#sk-container-id-3 input.sk-toggleable__control:checked~label.sk-toggleable__label-arrow:before {content: \"▾\";}#sk-container-id-3 div.sk-estimator input.sk-toggleable__control:checked~label.sk-toggleable__label {background-color: #d4ebff;}#sk-container-id-3 div.sk-label input.sk-toggleable__control:checked~label.sk-toggleable__label {background-color: #d4ebff;}#sk-container-id-3 input.sk-hidden--visually {border: 0;clip: rect(1px 1px 1px 1px);clip: rect(1px, 1px, 1px, 1px);height: 1px;margin: -1px;overflow: hidden;padding: 0;position: absolute;width: 1px;}#sk-container-id-3 div.sk-estimator {font-family: monospace;background-color: #f0f8ff;border: 1px dotted black;border-radius: 0.25em;box-sizing: border-box;margin-bottom: 0.5em;}#sk-container-id-3 div.sk-estimator:hover {background-color: #d4ebff;}#sk-container-id-3 div.sk-parallel-item::after {content: \"\";width: 100%;border-bottom: 1px solid gray;flex-grow: 1;}#sk-container-id-3 div.sk-label:hover label.sk-toggleable__label {background-color: #d4ebff;}#sk-container-id-3 div.sk-serial::before {content: \"\";position: absolute;border-left: 1px solid gray;box-sizing: border-box;top: 0;bottom: 0;left: 50%;z-index: 0;}#sk-container-id-3 div.sk-serial {display: flex;flex-direction: column;align-items: center;background-color: white;padding-right: 0.2em;padding-left: 0.2em;position: relative;}#sk-container-id-3 div.sk-item {position: relative;z-index: 1;}#sk-container-id-3 div.sk-parallel {display: flex;align-items: stretch;justify-content: center;background-color: white;position: relative;}#sk-container-id-3 div.sk-item::before, #sk-container-id-3 div.sk-parallel-item::before {content: \"\";position: absolute;border-left: 1px solid gray;box-sizing: border-box;top: 0;bottom: 0;left: 50%;z-index: -1;}#sk-container-id-3 div.sk-parallel-item {display: flex;flex-direction: column;z-index: 1;position: relative;background-color: white;}#sk-container-id-3 div.sk-parallel-item:first-child::after {align-self: flex-end;width: 50%;}#sk-container-id-3 div.sk-parallel-item:last-child::after {align-self: flex-start;width: 50%;}#sk-container-id-3 div.sk-parallel-item:only-child::after {width: 0;}#sk-container-id-3 div.sk-dashed-wrapped {border: 1px dashed gray;margin: 0 0.4em 0.5em 0.4em;box-sizing: border-box;padding-bottom: 0.4em;background-color: white;}#sk-container-id-3 div.sk-label label {font-family: monospace;font-weight: bold;display: inline-block;line-height: 1.2em;}#sk-container-id-3 div.sk-label-container {text-align: center;}#sk-container-id-3 div.sk-container {/* jupyter's `normalize.less` sets `[hidden] { display: none; }` but bootstrap.min.css set `[hidden] { display: none !important; }` so we also need the `!important` here to be able to override the default hidden behavior on the sphinx rendered scikit-learn.org. See: https://github.com/scikit-learn/scikit-learn/issues/21755 */display: inline-block !important;position: relative;}#sk-container-id-3 div.sk-text-repr-fallback {display: none;}</style><div id=\"sk-container-id-3\" class=\"sk-top-container\"><div class=\"sk-text-repr-fallback\"><pre>LinearRegression()</pre><b>In a Jupyter environment, please rerun this cell to show the HTML representation or trust the notebook. <br />On GitHub, the HTML representation is unable to render, please try loading this page with nbviewer.org.</b></div><div class=\"sk-container\" hidden><div class=\"sk-item\"><div class=\"sk-estimator sk-toggleable\"><input class=\"sk-toggleable__control sk-hidden--visually\" id=\"sk-estimator-id-3\" type=\"checkbox\" checked><label for=\"sk-estimator-id-3\" class=\"sk-toggleable__label sk-toggleable__label-arrow\">LinearRegression</label><div class=\"sk-toggleable__content\"><pre>LinearRegression()</pre></div></div></div></div></div>"
      ],
      "text/plain": [
       "LinearRegression()"
      ]
     },
     "execution_count": 201,
     "metadata": {},
     "output_type": "execute_result"
    }
   ],
   "source": [
    "l_model.fit(x_train,y_train)"
   ]
  },
  {
   "cell_type": "code",
   "execution_count": 203,
   "id": "b54e3fcb",
   "metadata": {},
   "outputs": [],
   "source": [
    "predictions = l_model.predict(x_test)"
   ]
  },
  {
   "cell_type": "code",
   "execution_count": 207,
   "id": "ed9195c9",
   "metadata": {},
   "outputs": [],
   "source": [
    "error_pred = pd.DataFrame(columns=['Actual_data','Prediction_data'])"
   ]
  },
  {
   "cell_type": "code",
   "execution_count": 208,
   "id": "04e3c8a2",
   "metadata": {},
   "outputs": [
    {
     "data": {
      "text/html": [
       "<div>\n",
       "<style scoped>\n",
       "    .dataframe tbody tr th:only-of-type {\n",
       "        vertical-align: middle;\n",
       "    }\n",
       "\n",
       "    .dataframe tbody tr th {\n",
       "        vertical-align: top;\n",
       "    }\n",
       "\n",
       "    .dataframe thead th {\n",
       "        text-align: right;\n",
       "    }\n",
       "</style>\n",
       "<table border=\"1\" class=\"dataframe\">\n",
       "  <thead>\n",
       "    <tr style=\"text-align: right;\">\n",
       "      <th></th>\n",
       "      <th>Actual_data</th>\n",
       "      <th>Prediction_data</th>\n",
       "    </tr>\n",
       "  </thead>\n",
       "  <tbody>\n",
       "  </tbody>\n",
       "</table>\n",
       "</div>"
      ],
      "text/plain": [
       "Empty DataFrame\n",
       "Columns: [Actual_data, Prediction_data]\n",
       "Index: []"
      ]
     },
     "execution_count": 208,
     "metadata": {},
     "output_type": "execute_result"
    }
   ],
   "source": [
    "error_pred"
   ]
  },
  {
   "cell_type": "code",
   "execution_count": 209,
   "id": "cacc48a5",
   "metadata": {},
   "outputs": [],
   "source": [
    "error_pred['Actual_data'] = y_test"
   ]
  },
  {
   "cell_type": "code",
   "execution_count": 211,
   "id": "b470f9c5",
   "metadata": {},
   "outputs": [],
   "source": [
    "error_pred['Prediction_data'] = predictions"
   ]
  },
  {
   "cell_type": "code",
   "execution_count": 213,
   "id": "2dea8468",
   "metadata": {},
   "outputs": [
    {
     "data": {
      "text/html": [
       "<div>\n",
       "<style scoped>\n",
       "    .dataframe tbody tr th:only-of-type {\n",
       "        vertical-align: middle;\n",
       "    }\n",
       "\n",
       "    .dataframe tbody tr th {\n",
       "        vertical-align: top;\n",
       "    }\n",
       "\n",
       "    .dataframe thead th {\n",
       "        text-align: right;\n",
       "    }\n",
       "</style>\n",
       "<table border=\"1\" class=\"dataframe\">\n",
       "  <thead>\n",
       "    <tr style=\"text-align: right;\">\n",
       "      <th></th>\n",
       "      <th>Actual_data</th>\n",
       "      <th>Prediction_data</th>\n",
       "    </tr>\n",
       "  </thead>\n",
       "  <tbody>\n",
       "    <tr>\n",
       "      <th>341</th>\n",
       "      <td>4779.60230</td>\n",
       "      <td>3227.949263</td>\n",
       "    </tr>\n",
       "    <tr>\n",
       "      <th>246</th>\n",
       "      <td>3732.62510</td>\n",
       "      <td>5781.468875</td>\n",
       "    </tr>\n",
       "    <tr>\n",
       "      <th>888</th>\n",
       "      <td>12730.99960</td>\n",
       "      <td>9619.941154</td>\n",
       "    </tr>\n",
       "    <tr>\n",
       "      <th>569</th>\n",
       "      <td>7986.47525</td>\n",
       "      <td>8686.718906</td>\n",
       "    </tr>\n",
       "    <tr>\n",
       "      <th>929</th>\n",
       "      <td>13470.86000</td>\n",
       "      <td>10899.302548</td>\n",
       "    </tr>\n",
       "  </tbody>\n",
       "</table>\n",
       "</div>"
      ],
      "text/plain": [
       "     Actual_data  Prediction_data\n",
       "341   4779.60230      3227.949263\n",
       "246   3732.62510      5781.468875\n",
       "888  12730.99960      9619.941154\n",
       "569   7986.47525      8686.718906\n",
       "929  13470.86000     10899.302548"
      ]
     },
     "execution_count": 213,
     "metadata": {},
     "output_type": "execute_result"
    }
   ],
   "source": [
    "error_pred.head()"
   ]
  },
  {
   "cell_type": "code",
   "execution_count": 214,
   "id": "a8b0a84d",
   "metadata": {},
   "outputs": [
    {
     "data": {
      "text/plain": [
       "(206, 2)"
      ]
     },
     "execution_count": 214,
     "metadata": {},
     "output_type": "execute_result"
    }
   ],
   "source": [
    "error_pred.shape"
   ]
  },
  {
   "cell_type": "code",
   "execution_count": 215,
   "id": "2f9c9623",
   "metadata": {},
   "outputs": [],
   "source": [
    "error_pred['Error'] = error_pred['Actual_data']-error_pred['Prediction_data']"
   ]
  },
  {
   "cell_type": "code",
   "execution_count": 217,
   "id": "c15108a1",
   "metadata": {},
   "outputs": [
    {
     "data": {
      "text/html": [
       "<div>\n",
       "<style scoped>\n",
       "    .dataframe tbody tr th:only-of-type {\n",
       "        vertical-align: middle;\n",
       "    }\n",
       "\n",
       "    .dataframe tbody tr th {\n",
       "        vertical-align: top;\n",
       "    }\n",
       "\n",
       "    .dataframe thead th {\n",
       "        text-align: right;\n",
       "    }\n",
       "</style>\n",
       "<table border=\"1\" class=\"dataframe\">\n",
       "  <thead>\n",
       "    <tr style=\"text-align: right;\">\n",
       "      <th></th>\n",
       "      <th>Actual_data</th>\n",
       "      <th>Prediction_data</th>\n",
       "      <th>Error</th>\n",
       "    </tr>\n",
       "  </thead>\n",
       "  <tbody>\n",
       "    <tr>\n",
       "      <th>341</th>\n",
       "      <td>4779.60230</td>\n",
       "      <td>3227.949263</td>\n",
       "      <td>1551.653037</td>\n",
       "    </tr>\n",
       "    <tr>\n",
       "      <th>246</th>\n",
       "      <td>3732.62510</td>\n",
       "      <td>5781.468875</td>\n",
       "      <td>-2048.843775</td>\n",
       "    </tr>\n",
       "    <tr>\n",
       "      <th>888</th>\n",
       "      <td>12730.99960</td>\n",
       "      <td>9619.941154</td>\n",
       "      <td>3111.058446</td>\n",
       "    </tr>\n",
       "    <tr>\n",
       "      <th>569</th>\n",
       "      <td>7986.47525</td>\n",
       "      <td>8686.718906</td>\n",
       "      <td>-700.243656</td>\n",
       "    </tr>\n",
       "    <tr>\n",
       "      <th>929</th>\n",
       "      <td>13470.86000</td>\n",
       "      <td>10899.302548</td>\n",
       "      <td>2571.557452</td>\n",
       "    </tr>\n",
       "  </tbody>\n",
       "</table>\n",
       "</div>"
      ],
      "text/plain": [
       "     Actual_data  Prediction_data        Error\n",
       "341   4779.60230      3227.949263  1551.653037\n",
       "246   3732.62510      5781.468875 -2048.843775\n",
       "888  12730.99960      9619.941154  3111.058446\n",
       "569   7986.47525      8686.718906  -700.243656\n",
       "929  13470.86000     10899.302548  2571.557452"
      ]
     },
     "execution_count": 217,
     "metadata": {},
     "output_type": "execute_result"
    }
   ],
   "source": [
    "error_pred.head()"
   ]
  },
  {
   "cell_type": "code",
   "execution_count": 218,
   "id": "c82af512",
   "metadata": {},
   "outputs": [],
   "source": [
    "from sklearn.metrics import*"
   ]
  },
  {
   "cell_type": "code",
   "execution_count": 219,
   "id": "7a6e2782",
   "metadata": {},
   "outputs": [],
   "source": [
    "train_predict = l_model.predict(x_train)"
   ]
  },
  {
   "cell_type": "code",
   "execution_count": 225,
   "id": "9e33bf03",
   "metadata": {},
   "outputs": [],
   "source": [
    "# R2 score analysis on train and test set"
   ]
  },
  {
   "cell_type": "code",
   "execution_count": 221,
   "id": "8c1227db",
   "metadata": {},
   "outputs": [
    {
     "data": {
      "text/plain": [
       "0.8177805534857867"
      ]
     },
     "execution_count": 221,
     "metadata": {},
     "output_type": "execute_result"
    }
   ],
   "source": [
    "r2_on_train = r2_score(y_train, train_predict)\n",
    "r2_on_train"
   ]
  },
  {
   "cell_type": "code",
   "execution_count": 223,
   "id": "14f5a199",
   "metadata": {},
   "outputs": [
    {
     "data": {
      "text/plain": [
       "0.769441716473521"
      ]
     },
     "execution_count": 223,
     "metadata": {},
     "output_type": "execute_result"
    }
   ],
   "source": [
    "r2_on_test = r2_score(y_test, predictions)\n",
    "r2_on_test"
   ]
  },
  {
   "cell_type": "code",
   "execution_count": 224,
   "id": "0d0d1c39",
   "metadata": {},
   "outputs": [
    {
     "data": {
      "text/html": [
       "<div>\n",
       "<style scoped>\n",
       "    .dataframe tbody tr th:only-of-type {\n",
       "        vertical-align: middle;\n",
       "    }\n",
       "\n",
       "    .dataframe tbody tr th {\n",
       "        vertical-align: top;\n",
       "    }\n",
       "\n",
       "    .dataframe thead th {\n",
       "        text-align: right;\n",
       "    }\n",
       "</style>\n",
       "<table border=\"1\" class=\"dataframe\">\n",
       "  <thead>\n",
       "    <tr style=\"text-align: right;\">\n",
       "      <th></th>\n",
       "      <th>children</th>\n",
       "      <th>Claim_Amount</th>\n",
       "      <th>past_consultations</th>\n",
       "      <th>Hospital_expenditure</th>\n",
       "      <th>Anual_Salary</th>\n",
       "      <th>charges</th>\n",
       "    </tr>\n",
       "  </thead>\n",
       "  <tbody>\n",
       "    <tr>\n",
       "      <th>count</th>\n",
       "      <td>1030.000000</td>\n",
       "      <td>1030.000000</td>\n",
       "      <td>1030.000000</td>\n",
       "      <td>1.030000e+03</td>\n",
       "      <td>1.030000e+03</td>\n",
       "      <td>1030.000000</td>\n",
       "    </tr>\n",
       "    <tr>\n",
       "      <th>mean</th>\n",
       "      <td>1.066460</td>\n",
       "      <td>30267.786546</td>\n",
       "      <td>12.988428</td>\n",
       "      <td>5.990933e+06</td>\n",
       "      <td>1.268518e+08</td>\n",
       "      <td>7653.996666</td>\n",
       "    </tr>\n",
       "    <tr>\n",
       "      <th>std</th>\n",
       "      <td>1.213582</td>\n",
       "      <td>14319.311327</td>\n",
       "      <td>5.957366</td>\n",
       "      <td>3.220088e+06</td>\n",
       "      <td>8.195598e+07</td>\n",
       "      <td>4399.239848</td>\n",
       "    </tr>\n",
       "    <tr>\n",
       "      <th>min</th>\n",
       "      <td>0.000000</td>\n",
       "      <td>1920.136268</td>\n",
       "      <td>1.000000</td>\n",
       "      <td>2.945253e+04</td>\n",
       "      <td>2.747072e+06</td>\n",
       "      <td>1121.873900</td>\n",
       "    </tr>\n",
       "    <tr>\n",
       "      <th>25%</th>\n",
       "      <td>0.000000</td>\n",
       "      <td>18001.007272</td>\n",
       "      <td>8.000000</td>\n",
       "      <td>3.316228e+06</td>\n",
       "      <td>6.634997e+07</td>\n",
       "      <td>3928.113625</td>\n",
       "    </tr>\n",
       "    <tr>\n",
       "      <th>50%</th>\n",
       "      <td>1.000000</td>\n",
       "      <td>30819.743115</td>\n",
       "      <td>13.000000</td>\n",
       "      <td>6.012943e+06</td>\n",
       "      <td>1.081183e+08</td>\n",
       "      <td>7167.686075</td>\n",
       "    </tr>\n",
       "    <tr>\n",
       "      <th>75%</th>\n",
       "      <td>2.000000</td>\n",
       "      <td>42058.656820</td>\n",
       "      <td>18.000000</td>\n",
       "      <td>8.496163e+06</td>\n",
       "      <td>1.738031e+08</td>\n",
       "      <td>11080.226900</td>\n",
       "    </tr>\n",
       "    <tr>\n",
       "      <th>max</th>\n",
       "      <td>5.000000</td>\n",
       "      <td>60712.925340</td>\n",
       "      <td>27.000000</td>\n",
       "      <td>1.665982e+07</td>\n",
       "      <td>3.829703e+08</td>\n",
       "      <td>20234.854750</td>\n",
       "    </tr>\n",
       "  </tbody>\n",
       "</table>\n",
       "</div>"
      ],
      "text/plain": [
       "          children  Claim_Amount  past_consultations  Hospital_expenditure  \\\n",
       "count  1030.000000   1030.000000         1030.000000          1.030000e+03   \n",
       "mean      1.066460  30267.786546           12.988428          5.990933e+06   \n",
       "std       1.213582  14319.311327            5.957366          3.220088e+06   \n",
       "min       0.000000   1920.136268            1.000000          2.945253e+04   \n",
       "25%       0.000000  18001.007272            8.000000          3.316228e+06   \n",
       "50%       1.000000  30819.743115           13.000000          6.012943e+06   \n",
       "75%       2.000000  42058.656820           18.000000          8.496163e+06   \n",
       "max       5.000000  60712.925340           27.000000          1.665982e+07   \n",
       "\n",
       "       Anual_Salary       charges  \n",
       "count  1.030000e+03   1030.000000  \n",
       "mean   1.268518e+08   7653.996666  \n",
       "std    8.195598e+07   4399.239848  \n",
       "min    2.747072e+06   1121.873900  \n",
       "25%    6.634997e+07   3928.113625  \n",
       "50%    1.081183e+08   7167.686075  \n",
       "75%    1.738031e+08  11080.226900  \n",
       "max    3.829703e+08  20234.854750  "
      ]
     },
     "execution_count": 224,
     "metadata": {},
     "output_type": "execute_result"
    }
   ],
   "source": [
    "insurance.describe()"
   ]
  },
  {
   "cell_type": "code",
   "execution_count": 226,
   "id": "31773e25",
   "metadata": {},
   "outputs": [],
   "source": [
    "# RMSE analysis on train and test set"
   ]
  },
  {
   "cell_type": "code",
   "execution_count": 227,
   "id": "6bd748a5",
   "metadata": {},
   "outputs": [
    {
     "data": {
      "text/plain": [
       "1862.9433466358262"
      ]
     },
     "execution_count": 227,
     "metadata": {},
     "output_type": "execute_result"
    }
   ],
   "source": [
    "rmse_on_train = mean_squared_error(y_train, train_predict, squared = False)\n",
    "rmse_on_train"
   ]
  },
  {
   "cell_type": "code",
   "execution_count": 228,
   "id": "b64784b8",
   "metadata": {},
   "outputs": [
    {
     "data": {
      "text/plain": [
       "2171.8451212900763"
      ]
     },
     "execution_count": 228,
     "metadata": {},
     "output_type": "execute_result"
    }
   ],
   "source": [
    "rmse_on_test = mean_squared_error(y_test, predictions, squared = False)\n",
    "rmse_on_test"
   ]
  },
  {
   "cell_type": "code",
   "execution_count": 229,
   "id": "7538a273",
   "metadata": {},
   "outputs": [],
   "source": [
    "# Mean absolute percentage error (MAP)"
   ]
  },
  {
   "cell_type": "code",
   "execution_count": 230,
   "id": "d31bc522",
   "metadata": {},
   "outputs": [],
   "source": [
    "from sklearn.metrics import mean_absolute_percentage_error"
   ]
  },
  {
   "cell_type": "code",
   "execution_count": 231,
   "id": "5f551e36",
   "metadata": {},
   "outputs": [
    {
     "data": {
      "text/plain": [
       "0.3381707192415047"
      ]
     },
     "execution_count": 231,
     "metadata": {},
     "output_type": "execute_result"
    }
   ],
   "source": [
    "mape_on_train = mean_absolute_percentage_error(y_train, train_predict)\n",
    "mape_on_train"
   ]
  },
  {
   "cell_type": "code",
   "execution_count": 232,
   "id": "b418b72a",
   "metadata": {},
   "outputs": [
    {
     "data": {
      "text/plain": [
       "0.4574170961797096"
      ]
     },
     "execution_count": 232,
     "metadata": {},
     "output_type": "execute_result"
    }
   ],
   "source": [
    "mape_on_test = mean_absolute_percentage_error(y_test, predictions)\n",
    "mape_on_test"
   ]
  },
  {
   "cell_type": "code",
   "execution_count": 237,
   "id": "969f1372",
   "metadata": {},
   "outputs": [],
   "source": [
    "#End of project"
   ]
  }
 ],
 "metadata": {
  "kernelspec": {
   "display_name": "Python 3 (ipykernel)",
   "language": "python",
   "name": "python3"
  },
  "language_info": {
   "codemirror_mode": {
    "name": "ipython",
    "version": 3
   },
   "file_extension": ".py",
   "mimetype": "text/x-python",
   "name": "python",
   "nbconvert_exporter": "python",
   "pygments_lexer": "ipython3",
   "version": "3.11.5"
  }
 },
 "nbformat": 4,
 "nbformat_minor": 5
}
